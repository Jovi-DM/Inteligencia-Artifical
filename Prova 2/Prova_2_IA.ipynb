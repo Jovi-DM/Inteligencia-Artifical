{
  "cells": [
    {
      "cell_type": "markdown",
      "source": [
        "#Nome: Joan Vitor Delfino Medeiros\n",
        "\n",
        "#Matrícula: 2016084300\n"
      ],
      "metadata": {
        "id": "_kC7rWXaTPIK"
      }
    },
    {
      "cell_type": "markdown",
      "metadata": {
        "id": "jSFBxYMrnzw7"
      },
      "source": [
        "# **Questão - Identificar o OUTPUT Grade do estudante.**\n",
        "\n",
        "\n",
        "\n"
      ]
    },
    {
      "cell_type": "markdown",
      "metadata": {
        "id": "HbDVYS_FfXNc"
      },
      "source": [
        "# **Lendo o Banco de Dados**\n"
      ]
    },
    {
      "cell_type": "code",
      "execution_count": null,
      "metadata": {
        "colab": {
          "base_uri": "https://localhost:8080/",
          "height": 317
        },
        "id": "nSPTvhAoe_a3",
        "outputId": "49784be4-0c43-4d6f-a626-18c79900c786"
      },
      "outputs": [
        {
          "output_type": "execute_result",
          "data": {
            "text/plain": [
              "  STUDENTID  AGE  GENDER  HS_TYPE  SCHOLARSHIP  WORK  ACTIVITY  PARTNER  \\\n",
              "0  STUDENT1    2       2        3            3     1         2        2   \n",
              "1  STUDENT2    2       2        3            3     1         2        2   \n",
              "2  STUDENT3    2       2        2            3     2         2        2   \n",
              "3  STUDENT4    1       1        1            3     1         2        1   \n",
              "4  STUDENT5    2       2        1            3     2         2        1   \n",
              "\n",
              "   SALARY  TRANSPORT  ...  PREP_STUDY  PREP_EXAM  NOTES  LISTENS  \\\n",
              "0       1          1  ...           1          1      3        2   \n",
              "1       1          1  ...           1          1      3        2   \n",
              "2       2          4  ...           1          1      2        2   \n",
              "3       2          1  ...           1          2      3        2   \n",
              "4       3          1  ...           2          1      2        2   \n",
              "\n",
              "   LIKES_DISCUSS  CLASSROOM  CUML_GPA  EXP_GPA  COURSE ID  GRADE  \n",
              "0              1          2         1        1          1      1  \n",
              "1              3          2         2        3          1      1  \n",
              "2              1          1         2        2          1      1  \n",
              "3              2          1         3        2          1      1  \n",
              "4              2          1         2        2          1      1  \n",
              "\n",
              "[5 rows x 33 columns]"
            ],
            "text/html": [
              "\n",
              "  <div id=\"df-f9c49203-59f1-4537-a1cc-d990a6892921\">\n",
              "    <div class=\"colab-df-container\">\n",
              "      <div>\n",
              "<style scoped>\n",
              "    .dataframe tbody tr th:only-of-type {\n",
              "        vertical-align: middle;\n",
              "    }\n",
              "\n",
              "    .dataframe tbody tr th {\n",
              "        vertical-align: top;\n",
              "    }\n",
              "\n",
              "    .dataframe thead th {\n",
              "        text-align: right;\n",
              "    }\n",
              "</style>\n",
              "<table border=\"1\" class=\"dataframe\">\n",
              "  <thead>\n",
              "    <tr style=\"text-align: right;\">\n",
              "      <th></th>\n",
              "      <th>STUDENTID</th>\n",
              "      <th>AGE</th>\n",
              "      <th>GENDER</th>\n",
              "      <th>HS_TYPE</th>\n",
              "      <th>SCHOLARSHIP</th>\n",
              "      <th>WORK</th>\n",
              "      <th>ACTIVITY</th>\n",
              "      <th>PARTNER</th>\n",
              "      <th>SALARY</th>\n",
              "      <th>TRANSPORT</th>\n",
              "      <th>...</th>\n",
              "      <th>PREP_STUDY</th>\n",
              "      <th>PREP_EXAM</th>\n",
              "      <th>NOTES</th>\n",
              "      <th>LISTENS</th>\n",
              "      <th>LIKES_DISCUSS</th>\n",
              "      <th>CLASSROOM</th>\n",
              "      <th>CUML_GPA</th>\n",
              "      <th>EXP_GPA</th>\n",
              "      <th>COURSE ID</th>\n",
              "      <th>GRADE</th>\n",
              "    </tr>\n",
              "  </thead>\n",
              "  <tbody>\n",
              "    <tr>\n",
              "      <th>0</th>\n",
              "      <td>STUDENT1</td>\n",
              "      <td>2</td>\n",
              "      <td>2</td>\n",
              "      <td>3</td>\n",
              "      <td>3</td>\n",
              "      <td>1</td>\n",
              "      <td>2</td>\n",
              "      <td>2</td>\n",
              "      <td>1</td>\n",
              "      <td>1</td>\n",
              "      <td>...</td>\n",
              "      <td>1</td>\n",
              "      <td>1</td>\n",
              "      <td>3</td>\n",
              "      <td>2</td>\n",
              "      <td>1</td>\n",
              "      <td>2</td>\n",
              "      <td>1</td>\n",
              "      <td>1</td>\n",
              "      <td>1</td>\n",
              "      <td>1</td>\n",
              "    </tr>\n",
              "    <tr>\n",
              "      <th>1</th>\n",
              "      <td>STUDENT2</td>\n",
              "      <td>2</td>\n",
              "      <td>2</td>\n",
              "      <td>3</td>\n",
              "      <td>3</td>\n",
              "      <td>1</td>\n",
              "      <td>2</td>\n",
              "      <td>2</td>\n",
              "      <td>1</td>\n",
              "      <td>1</td>\n",
              "      <td>...</td>\n",
              "      <td>1</td>\n",
              "      <td>1</td>\n",
              "      <td>3</td>\n",
              "      <td>2</td>\n",
              "      <td>3</td>\n",
              "      <td>2</td>\n",
              "      <td>2</td>\n",
              "      <td>3</td>\n",
              "      <td>1</td>\n",
              "      <td>1</td>\n",
              "    </tr>\n",
              "    <tr>\n",
              "      <th>2</th>\n",
              "      <td>STUDENT3</td>\n",
              "      <td>2</td>\n",
              "      <td>2</td>\n",
              "      <td>2</td>\n",
              "      <td>3</td>\n",
              "      <td>2</td>\n",
              "      <td>2</td>\n",
              "      <td>2</td>\n",
              "      <td>2</td>\n",
              "      <td>4</td>\n",
              "      <td>...</td>\n",
              "      <td>1</td>\n",
              "      <td>1</td>\n",
              "      <td>2</td>\n",
              "      <td>2</td>\n",
              "      <td>1</td>\n",
              "      <td>1</td>\n",
              "      <td>2</td>\n",
              "      <td>2</td>\n",
              "      <td>1</td>\n",
              "      <td>1</td>\n",
              "    </tr>\n",
              "    <tr>\n",
              "      <th>3</th>\n",
              "      <td>STUDENT4</td>\n",
              "      <td>1</td>\n",
              "      <td>1</td>\n",
              "      <td>1</td>\n",
              "      <td>3</td>\n",
              "      <td>1</td>\n",
              "      <td>2</td>\n",
              "      <td>1</td>\n",
              "      <td>2</td>\n",
              "      <td>1</td>\n",
              "      <td>...</td>\n",
              "      <td>1</td>\n",
              "      <td>2</td>\n",
              "      <td>3</td>\n",
              "      <td>2</td>\n",
              "      <td>2</td>\n",
              "      <td>1</td>\n",
              "      <td>3</td>\n",
              "      <td>2</td>\n",
              "      <td>1</td>\n",
              "      <td>1</td>\n",
              "    </tr>\n",
              "    <tr>\n",
              "      <th>4</th>\n",
              "      <td>STUDENT5</td>\n",
              "      <td>2</td>\n",
              "      <td>2</td>\n",
              "      <td>1</td>\n",
              "      <td>3</td>\n",
              "      <td>2</td>\n",
              "      <td>2</td>\n",
              "      <td>1</td>\n",
              "      <td>3</td>\n",
              "      <td>1</td>\n",
              "      <td>...</td>\n",
              "      <td>2</td>\n",
              "      <td>1</td>\n",
              "      <td>2</td>\n",
              "      <td>2</td>\n",
              "      <td>2</td>\n",
              "      <td>1</td>\n",
              "      <td>2</td>\n",
              "      <td>2</td>\n",
              "      <td>1</td>\n",
              "      <td>1</td>\n",
              "    </tr>\n",
              "  </tbody>\n",
              "</table>\n",
              "<p>5 rows × 33 columns</p>\n",
              "</div>\n",
              "      <button class=\"colab-df-convert\" onclick=\"convertToInteractive('df-f9c49203-59f1-4537-a1cc-d990a6892921')\"\n",
              "              title=\"Convert this dataframe to an interactive table.\"\n",
              "              style=\"display:none;\">\n",
              "        \n",
              "  <svg xmlns=\"http://www.w3.org/2000/svg\" height=\"24px\"viewBox=\"0 0 24 24\"\n",
              "       width=\"24px\">\n",
              "    <path d=\"M0 0h24v24H0V0z\" fill=\"none\"/>\n",
              "    <path d=\"M18.56 5.44l.94 2.06.94-2.06 2.06-.94-2.06-.94-.94-2.06-.94 2.06-2.06.94zm-11 1L8.5 8.5l.94-2.06 2.06-.94-2.06-.94L8.5 2.5l-.94 2.06-2.06.94zm10 10l.94 2.06.94-2.06 2.06-.94-2.06-.94-.94-2.06-.94 2.06-2.06.94z\"/><path d=\"M17.41 7.96l-1.37-1.37c-.4-.4-.92-.59-1.43-.59-.52 0-1.04.2-1.43.59L10.3 9.45l-7.72 7.72c-.78.78-.78 2.05 0 2.83L4 21.41c.39.39.9.59 1.41.59.51 0 1.02-.2 1.41-.59l7.78-7.78 2.81-2.81c.8-.78.8-2.07 0-2.86zM5.41 20L4 18.59l7.72-7.72 1.47 1.35L5.41 20z\"/>\n",
              "  </svg>\n",
              "      </button>\n",
              "      \n",
              "  <style>\n",
              "    .colab-df-container {\n",
              "      display:flex;\n",
              "      flex-wrap:wrap;\n",
              "      gap: 12px;\n",
              "    }\n",
              "\n",
              "    .colab-df-convert {\n",
              "      background-color: #E8F0FE;\n",
              "      border: none;\n",
              "      border-radius: 50%;\n",
              "      cursor: pointer;\n",
              "      display: none;\n",
              "      fill: #1967D2;\n",
              "      height: 32px;\n",
              "      padding: 0 0 0 0;\n",
              "      width: 32px;\n",
              "    }\n",
              "\n",
              "    .colab-df-convert:hover {\n",
              "      background-color: #E2EBFA;\n",
              "      box-shadow: 0px 1px 2px rgba(60, 64, 67, 0.3), 0px 1px 3px 1px rgba(60, 64, 67, 0.15);\n",
              "      fill: #174EA6;\n",
              "    }\n",
              "\n",
              "    [theme=dark] .colab-df-convert {\n",
              "      background-color: #3B4455;\n",
              "      fill: #D2E3FC;\n",
              "    }\n",
              "\n",
              "    [theme=dark] .colab-df-convert:hover {\n",
              "      background-color: #434B5C;\n",
              "      box-shadow: 0px 1px 3px 1px rgba(0, 0, 0, 0.15);\n",
              "      filter: drop-shadow(0px 1px 2px rgba(0, 0, 0, 0.3));\n",
              "      fill: #FFFFFF;\n",
              "    }\n",
              "  </style>\n",
              "\n",
              "      <script>\n",
              "        const buttonEl =\n",
              "          document.querySelector('#df-f9c49203-59f1-4537-a1cc-d990a6892921 button.colab-df-convert');\n",
              "        buttonEl.style.display =\n",
              "          google.colab.kernel.accessAllowed ? 'block' : 'none';\n",
              "\n",
              "        async function convertToInteractive(key) {\n",
              "          const element = document.querySelector('#df-f9c49203-59f1-4537-a1cc-d990a6892921');\n",
              "          const dataTable =\n",
              "            await google.colab.kernel.invokeFunction('convertToInteractive',\n",
              "                                                     [key], {});\n",
              "          if (!dataTable) return;\n",
              "\n",
              "          const docLinkHtml = 'Like what you see? Visit the ' +\n",
              "            '<a target=\"_blank\" href=https://colab.research.google.com/notebooks/data_table.ipynb>data table notebook</a>'\n",
              "            + ' to learn more about interactive tables.';\n",
              "          element.innerHTML = '';\n",
              "          dataTable['output_type'] = 'display_data';\n",
              "          await google.colab.output.renderOutput(dataTable, element);\n",
              "          const docLink = document.createElement('div');\n",
              "          docLink.innerHTML = docLinkHtml;\n",
              "          element.appendChild(docLink);\n",
              "        }\n",
              "      </script>\n",
              "    </div>\n",
              "  </div>\n",
              "  "
            ]
          },
          "metadata": {},
          "execution_count": 68
        }
      ],
      "source": [
        "import pandas as pd\n",
        "import numpy as np\n",
        "\n",
        "dados = pd.read_csv('student_prediction.csv')\n",
        "\n",
        "dados.head()"
      ]
    },
    {
      "cell_type": "markdown",
      "source": [
        "# **Questão 1 - Utilizando a base de dados de https://www.kaggle.com/datasets/csafrit2/higher-education-students-performance-evaluation, elabore uma solução para identificar o OUTPUT Grade do estudante. Lembre-se de comentar seu código no notebook detalhadamente, explicando cada passo.**"
      ],
      "metadata": {
        "id": "HAPTUbcsTyMN"
      }
    },
    {
      "cell_type": "markdown",
      "metadata": {
        "id": "qM7FFeLUgXEa"
      },
      "source": [
        "## **1.A) Faça o pré-processamento dos dados (limpeza, engenharia de variáveis, etc) e deixe os seus dados preparados para aplicar o modelo.**"
      ]
    },
    {
      "cell_type": "code",
      "execution_count": null,
      "metadata": {
        "colab": {
          "base_uri": "https://localhost:8080/"
        },
        "id": "D7PlMdTLkIAQ",
        "outputId": "33d4f808-59b3-4378-ff30-98e70dda79be"
      },
      "outputs": [
        {
          "output_type": "execute_result",
          "data": {
            "text/plain": [
              "Index(['STUDENTID', 'AGE', 'GENDER', 'HS_TYPE', 'SCHOLARSHIP', 'WORK',\n",
              "       'ACTIVITY', 'PARTNER', 'SALARY', 'TRANSPORT', 'LIVING', 'MOTHER_EDU',\n",
              "       'FATHER_EDU', '#_SIBLINGS', 'KIDS', 'MOTHER_JOB', 'FATHER_JOB',\n",
              "       'STUDY_HRS', 'READ_FREQ', 'READ_FREQ_SCI', 'ATTEND_DEPT', 'IMPACT',\n",
              "       'ATTEND', 'PREP_STUDY', 'PREP_EXAM', 'NOTES', 'LISTENS',\n",
              "       'LIKES_DISCUSS', 'CLASSROOM', 'CUML_GPA', 'EXP_GPA', 'COURSE ID',\n",
              "       'GRADE'],\n",
              "      dtype='object')"
            ]
          },
          "metadata": {},
          "execution_count": 69
        }
      ],
      "source": [
        "dados.columns"
      ]
    },
    {
      "cell_type": "markdown",
      "metadata": {
        "id": "dqkEC_c5njjq"
      },
      "source": [
        "Optei por realizar a tradução  dos nomes das colunas para português, melhorando compreensão das variaveis envolvidas. "
      ]
    },
    {
      "cell_type": "code",
      "execution_count": null,
      "metadata": {
        "id": "2YVgDXU8f3RZ"
      },
      "outputs": [],
      "source": [
        "colunas = {\n",
        "            'STUDENTID':'ID_aluno','AGE':'idade', 'GENDER':'sexo', \n",
        "           'HS_TYPE' : 'Formacao_ensino_medio', 'SCHOLARSHIP':'tipo_bolsa', \n",
        "           'WORK' : 'trabalho_adicional','ACTIVITY' : 'atividades_diversas', \n",
        "           'PARTNER' : 'tem_companheiro', 'SALARY' : 'salario_total',\n",
        "           'TRANSPORT' : 'transporte_universidade', 'LIVING' : 'tipo_moradia', \n",
        "           'MOTHER_EDU' : 'escolaridade_mae', 'FATHER_EDU' : 'escolaridade_pai',\n",
        "           '#_SIBLINGS': 'numero_irmaos', 'KIDS':'status_parental', \n",
        "           'MOTHER_JOB':'ocupacao_mae', 'FATHER_JOB':'ocupacao_pai',\n",
        "           'STUDY_HRS' : 'horas_semanais_estudo', 'READ_FREQ' : 'freq_leitura', \n",
        "           'READ_FREQ_SCI' : 'freq_leitura_cientifica', 'ATTEND_DEPT':'presenca_seminarios',\n",
        "           'IMPACT' : 'impacto_sucesso', 'ATTEND' : 'freq_aulas', \n",
        "           'PREP_STUDY' : 'prep_exames_1', 'PREP_EXAM' : 'prep_exames_2', \n",
        "           'NOTES' : 'faz_anotacoes', 'LISTENS':'ouve_aulas',\n",
        "           'LIKES_DISCUSS' : 'gosta_de_discussoes', 'CLASSROOM' : 'flip_classroom', \n",
        "           'CUML_GPA':'media_notas_acumuladas_ult_semestre', 'EXP_GPA' : 'media_notas_acumuladas_esp_graduacao', \n",
        "           'COURSE ID' : 'ID_curso', 'GRADE':'nota_de_saida' }\n",
        "dados.rename(columns = colunas, inplace=True)"
      ]
    },
    {
      "cell_type": "markdown",
      "metadata": {
        "id": "zVlgTMGopBmE"
      },
      "source": [
        "Verificação se há dados nulos nas colunas."
      ]
    },
    {
      "cell_type": "code",
      "execution_count": null,
      "metadata": {
        "colab": {
          "base_uri": "https://localhost:8080/"
        },
        "id": "9U2xMxMfgezn",
        "outputId": "54edbacd-cdc5-45ab-e0ef-2ab223ee6d8d"
      },
      "outputs": [
        {
          "output_type": "execute_result",
          "data": {
            "text/plain": [
              "ID_aluno                                0\n",
              "idade                                   0\n",
              "sexo                                    0\n",
              "Formacao_ensino_medio                   0\n",
              "tipo_bolsa                              0\n",
              "trabalho_adicional                      0\n",
              "atividades_diversas                     0\n",
              "tem_companheiro                         0\n",
              "salario_total                           0\n",
              "transporte_universidade                 0\n",
              "tipo_moradia                            0\n",
              "escolaridade_mae                        0\n",
              "escolaridade_pai                        0\n",
              "numero_irmaos                           0\n",
              "status_parental                         0\n",
              "ocupacao_mae                            0\n",
              "ocupacao_pai                            0\n",
              "horas_semanais_estudo                   0\n",
              "freq_leitura                            0\n",
              "freq_leitura_cientifica                 0\n",
              "presenca_seminarios                     0\n",
              "impacto_sucesso                         0\n",
              "freq_aulas                              0\n",
              "prep_exames_1                           0\n",
              "prep_exames_2                           0\n",
              "faz_anotacoes                           0\n",
              "ouve_aulas                              0\n",
              "gosta_de_discussoes                     0\n",
              "flip_classroom                          0\n",
              "media_notas_acumuladas_ult_semestre     0\n",
              "media_notas_acumuladas_esp_graduacao    0\n",
              "ID_curso                                0\n",
              "nota_de_saida                           0\n",
              "dtype: int64"
            ]
          },
          "metadata": {},
          "execution_count": 71
        }
      ],
      "source": [
        "dados.isnull().sum()"
      ]
    },
    {
      "cell_type": "markdown",
      "metadata": {
        "id": "5B2lp9QmpOCK"
      },
      "source": [
        "Optei por eliminar variáveis que não contribuem com o objetivo da solução"
      ]
    },
    {
      "cell_type": "code",
      "execution_count": null,
      "metadata": {
        "id": "McQb7ckzocos"
      },
      "outputs": [],
      "source": [
        "dados = dados.drop(labels = ['ocupacao_mae','ocupacao_pai', 'numero_irmaos', 'escolaridade_mae', 'escolaridade_pai'], axis = 1)"
      ]
    },
    {
      "cell_type": "code",
      "execution_count": null,
      "metadata": {
        "colab": {
          "base_uri": "https://localhost:8080/"
        },
        "id": "BTu2_PEXvEx5",
        "outputId": "f1d547b6-2b86-4f99-a95c-8bba833728a3"
      },
      "outputs": [
        {
          "output_type": "execute_result",
          "data": {
            "text/plain": [
              "Index(['ID_aluno', 'idade', 'sexo', 'Formacao_ensino_medio', 'tipo_bolsa',\n",
              "       'trabalho_adicional', 'atividades_diversas', 'tem_companheiro',\n",
              "       'salario_total', 'transporte_universidade', 'tipo_moradia',\n",
              "       'status_parental', 'horas_semanais_estudo', 'freq_leitura',\n",
              "       'freq_leitura_cientifica', 'presenca_seminarios', 'impacto_sucesso',\n",
              "       'freq_aulas', 'prep_exames_1', 'prep_exames_2', 'faz_anotacoes',\n",
              "       'ouve_aulas', 'gosta_de_discussoes', 'flip_classroom',\n",
              "       'media_notas_acumuladas_ult_semestre',\n",
              "       'media_notas_acumuladas_esp_graduacao', 'ID_curso', 'nota_de_saida'],\n",
              "      dtype='object')"
            ]
          },
          "metadata": {},
          "execution_count": 73
        }
      ],
      "source": [
        "dados.columns"
      ]
    },
    {
      "cell_type": "markdown",
      "metadata": {
        "id": "x34DhSUQtThD"
      },
      "source": [
        "Aplicação do redimensionamento dos atributos"
      ]
    },
    {
      "cell_type": "code",
      "execution_count": null,
      "metadata": {
        "colab": {
          "base_uri": "https://localhost:8080/"
        },
        "id": "tMKfd9mqp2BF",
        "outputId": "96c1ffe6-5abb-439a-dffd-012c052d4c71"
      },
      "outputs": [
        {
          "output_type": "stream",
          "name": "stdout",
          "text": [
            "Treinamento com 116 elementos e teste com 29 elementos\n",
            "A acurácia foi 37.931%\n"
          ]
        }
      ],
      "source": [
        "from sklearn.model_selection import train_test_split\n",
        "from sklearn.tree import DecisionTreeClassifier\n",
        "from sklearn.metrics import accuracy_score\n",
        "\n",
        "X = dados[['idade', 'sexo', 'Formacao_ensino_medio', 'tipo_bolsa',\n",
        "       'trabalho_adicional', 'atividades_diversas', 'tem_companheiro',\n",
        "       'salario_total', 'transporte_universidade', 'tipo_moradia',\n",
        "       'status_parental', 'horas_semanais_estudo', 'freq_leitura',\n",
        "       'freq_leitura_cientifica', 'presenca_seminarios', 'impacto_sucesso',\n",
        "       'freq_aulas', 'prep_exames_1', 'prep_exames_2', 'faz_anotacoes',\n",
        "       'ouve_aulas', 'gosta_de_discussoes', 'flip_classroom',\n",
        "       'media_notas_acumuladas_ult_semestre',\n",
        "       'media_notas_acumuladas_esp_graduacao', 'ID_curso']]\n",
        "Y = dados['nota_de_saida']\n",
        "\n",
        "SEED = 158020\n",
        "np.random.seed(SEED)\n",
        "treino_x, teste_x, treino_y, teste_y = train_test_split(X, Y, test_size = 0.20,\n",
        "                                                         stratify = Y)\n",
        "modelo = DecisionTreeClassifier(max_depth=4)\n",
        "modelo.fit(treino_x, treino_y)\n",
        "previsoes = modelo.predict(teste_x)\n",
        "\n",
        "print(\"Treinamento com %d elementos e teste com %d elementos\" % (len(treino_x), len(teste_x)))\n",
        "acuracia = accuracy_score(teste_y, previsoes) * 100\n",
        "print(\"A acurácia foi %.3f%%\" % acuracia)\n"
      ]
    },
    {
      "cell_type": "markdown",
      "metadata": {
        "id": "AZtHaw0ANejU"
      },
      "source": [
        "**R**: O objetivo aqui é aplicar o train_test_split para um melhor redimensionamento dos dados, o resultado é 116 estudantes para o treino e 29 para teste. Aproveitamos para aplicar o Decision Tree Classifier para avaliar a acurácia, pelo score é possível perceber que o indice não é satisfatório, devido ser inferior a 50%. No entanto, a aplicação contribui para o desenvolvimento do conhecimento nas técnicas e na analise. "
      ]
    },
    {
      "cell_type": "code",
      "execution_count": null,
      "metadata": {
        "colab": {
          "base_uri": "https://localhost:8080/"
        },
        "id": "qrF5b4pb3NNr",
        "outputId": "6037e863-f858-4b06-bede-7393ef17f708"
      },
      "outputs": [
        {
          "output_type": "stream",
          "name": "stdout",
          "text": [
            "Accuracy com cross validation, 10 = [1.97, 57.27]\n"
          ]
        }
      ],
      "source": [
        "from sklearn.model_selection import KFold\n",
        "from sklearn.model_selection import cross_validate\n",
        "SEED = 301\n",
        "np.random.seed(SEED)\n",
        "\n",
        "cv = KFold(n_splits = 10)\n",
        "\n",
        "results = cross_validate(modelo, X, Y, cv = cv, return_train_score=False)\n",
        "media = results['test_score'].mean()\n",
        "desvio_padrao = results['test_score'].std()\n",
        "print(\"Accuracy com cross validation, 10 = [%.2f, %.2f]\" % ((media - 2 * desvio_padrao)*100, (media + 2 * desvio_padrao) * 100))"
      ]
    },
    {
      "cell_type": "markdown",
      "metadata": {
        "id": "47PPWJl2OQVk"
      },
      "source": [
        "**R**: Aqui o objetivo principal foi utilizar a validação cruzada através do cross_validate e do K-Fold, que segundo as instruções passadas no enunciado, usaremos 10 para o n_splits. O modelo a ser aplicado segue o do tópico anterior (Decision Tree Classifier), no entanto, com a aplicação do 10-Fold e do cross_validate. Para avaliarmos a técnica, foi coletado então o test_score, calculado a media e o desvio padrão sobre ele, para que assim possamos calcular o intervalo de acurácia, que segundo o cross validation é de [1.97, 57,27]. O resultado é mais satisfatório que anterior, no entanto, não é tão promissor. Continua sendo valido a aplicação afim de conhecimento e prática na técnica. "
      ]
    },
    {
      "cell_type": "markdown",
      "metadata": {
        "id": "dK8jeQHdy5C0"
      },
      "source": [
        "## **1.B) Faça uma análise exploratória dos dados de saída, utilizando box plot, mostrando a aplicação de técnicas de under ou oversampling para que as classes tenham o mesmo tamanho.**"
      ]
    },
    {
      "cell_type": "markdown",
      "metadata": {
        "id": "T7OcaT9H4dbO"
      },
      "source": [
        "### Mostrando o desbalanceamento"
      ]
    },
    {
      "cell_type": "code",
      "execution_count": null,
      "metadata": {
        "colab": {
          "base_uri": "https://localhost:8080/",
          "height": 216
        },
        "id": "I6uZBfvG2AIh",
        "outputId": "7b043ead-af6c-4f87-8668-8fae8bc14ac5"
      },
      "outputs": [
        {
          "output_type": "stream",
          "name": "stdout",
          "text": [
            "Class 0: 8\n",
            "Class 1: 35\n",
            "Class 2: 24\n",
            "Class 3: 21\n",
            "Class 4: 10\n",
            "Class 5: 17\n",
            "Class 6: 13\n",
            "Class 7: 17\n"
          ]
        },
        {
          "output_type": "execute_result",
          "data": {
            "text/plain": [
              "<matplotlib.axes._subplots.AxesSubplot at 0x7f5507543f90>"
            ]
          },
          "metadata": {},
          "execution_count": 76
        },
        {
          "output_type": "display_data",
          "data": {
            "text/plain": [
              "<Figure size 432x288 with 1 Axes>"
            ],
            "image/png": "[encoded data removed]"
          },
          "metadata": {
            "needs_background": "light"
          }
        }
      ],
      "source": [
        "target_count = dados.nota_de_saida.value_counts()\n",
        "print('Class 0:', target_count[0])\n",
        "print('Class 1:', target_count[1])\n",
        "print('Class 2:', target_count[2])\n",
        "print('Class 3:', target_count[3])\n",
        "print('Class 4:', target_count[4])\n",
        "print('Class 5:', target_count[5])\n",
        "print('Class 6:', target_count[6])\n",
        "print('Class 7:', target_count[7])\n",
        "target_count.plot(kind='bar', title='Count (target)',color = ['#1F77B4', '#FF7F0E'])"
      ]
    },
    {
      "cell_type": "code",
      "execution_count": null,
      "metadata": {
        "colab": {
          "base_uri": "https://localhost:8080/",
          "height": 90
        },
        "id": "NYYKb9tEqaGz",
        "outputId": "9aeebc02-5e98-4fc2-b3d9-39e234486789"
      },
      "outputs": [
        {
          "output_type": "stream",
          "name": "stderr",
          "text": [
            "/usr/local/lib/python3.7/dist-packages/seaborn/_decorators.py:43: FutureWarning: Pass the following variable as a keyword arg: x. From version 0.12, the only valid positional argument will be `data`, and passing other arguments without an explicit keyword will result in an error or misinterpretation.\n",
            "  FutureWarning\n"
          ]
        },
        {
          "output_type": "display_data",
          "data": {
            "text/plain": [
              "<Figure size 432x288 with 1 Axes>"
            ],
            "image/png": "[encoded data removed]"
          },
          "metadata": {
            "needs_background": "light"
          }
        }
      ],
      "source": [
        "import seaborn as sns\n",
        "ax = sns.boxplot(target_count)"
      ]
    },
    {
      "cell_type": "code",
      "execution_count": null,
      "metadata": {
        "colab": {
          "base_uri": "https://localhost:8080/",
          "height": 126
        },
        "id": "boco91Px7zTm",
        "outputId": "e2220e60-14b4-4ba3-8187-70f7e0b28a81"
      },
      "outputs": [
        {
          "output_type": "stream",
          "name": "stdout",
          "text": [
            "Class 0: 8\n",
            "Class 1: 35\n",
            "Proportion: 0.23 : 1\n"
          ]
        },
        {
          "output_type": "execute_result",
          "data": {
            "text/plain": [
              "<matplotlib.axes._subplots.AxesSubplot at 0x7f5504cdb350>"
            ]
          },
          "metadata": {},
          "execution_count": 78
        },
        {
          "output_type": "display_data",
          "data": {
            "text/plain": [
              "<Figure size 432x288 with 1 Axes>"
            ],
            "image/png": "[encoded data removed]"
          },
          "metadata": {
            "needs_background": "light"
          }
        }
      ],
      "source": [
        "# Classe Maioria = 1\n",
        "# Classe Minoria = 0\n",
        "\n",
        "#IDENTIFICAR DESBALANCEAMENTO DOS DADOS\n",
        "target_count = dados.nota_de_saida.value_counts()\n",
        "print('Class 0:', target_count[0])\n",
        "print('Class 1:', target_count[1])\n",
        "print('Proportion:', round(target_count[0] / target_count[1], 2), ': 1')\n",
        "\n",
        "target_count.plot(kind='bar', title='Count (target)',color = ['#1F77B4', '#FF7F0E'])"
      ]
    },
    {
      "cell_type": "code",
      "execution_count": null,
      "metadata": {
        "colab": {
          "base_uri": "https://localhost:8080/",
          "height": 144
        },
        "id": "c_wJv0DcwM26",
        "outputId": "4c9daadc-e78c-4267-e7b3-7c14d2c92af2"
      },
      "outputs": [
        {
          "output_type": "stream",
          "name": "stdout",
          "text": [
            "Random under-sampling:\n",
            "0    35\n",
            "1    35\n",
            "Name: nota_de_saida, dtype: int64\n"
          ]
        },
        {
          "output_type": "execute_result",
          "data": {
            "text/plain": [
              "<matplotlib.axes._subplots.AxesSubplot at 0x7f5504bc3850>"
            ]
          },
          "metadata": {},
          "execution_count": 79
        },
        {
          "output_type": "display_data",
          "data": {
            "text/plain": [
              "<Figure size 432x288 with 1 Axes>"
            ],
            "image/png": "[encoded data removed]"
          },
          "metadata": {
            "needs_background": "light"
          }
        }
      ],
      "source": [
        "#CONTAR AS CLASSIFICACOES\n",
        "# Classe Minoria = 0\n",
        "count_class_0 = target_count[0]\n",
        "# Classe Maioria = 1\n",
        "count_class_1 = target_count[1]\n",
        "\n",
        "#DIVIDE O DATA FRAME POR CLASSIFICACAO\n",
        "df_class_0 = dados[dados['nota_de_saida'] == 0]\n",
        "df_class_1 = dados[dados['nota_de_saida'] == 1]\n",
        "\n",
        "#EQUALIZANDO A BASE POR UNDER SAMPLING\n",
        "df_class_0_under = df_class_0.sample(count_class_1, replace=True)\n",
        "df_test_under = pd.concat([df_class_0_under, df_class_1], axis=0)\n",
        "\n",
        "print('Random under-sampling:')\n",
        "print(df_test_under.nota_de_saida.value_counts())\n",
        "\n",
        "df_test_under.nota_de_saida.value_counts().plot(kind='bar', title='Count (nota_de_saida)')"
      ]
    },
    {
      "cell_type": "code",
      "execution_count": null,
      "metadata": {
        "colab": {
          "base_uri": "https://localhost:8080/",
          "height": 252
        },
        "id": "y-5IMQ3F-Bcd",
        "outputId": "87b67a08-6f14-413f-a9b2-f8fc765bc635"
      },
      "outputs": [
        {
          "output_type": "stream",
          "name": "stdout",
          "text": [
            "Random over-sampling:\n",
            "0    35\n",
            "1    24\n",
            "2    21\n",
            "4    17\n",
            "6    17\n",
            "7    17\n",
            "5    13\n",
            "3    10\n",
            "Name: nota_de_saida, dtype: int64\n"
          ]
        },
        {
          "output_type": "execute_result",
          "data": {
            "text/plain": [
              "<matplotlib.axes._subplots.AxesSubplot at 0x7f5504bb2f10>"
            ]
          },
          "metadata": {},
          "execution_count": 80
        },
        {
          "output_type": "display_data",
          "data": {
            "text/plain": [
              "<Figure size 432x288 with 1 Axes>"
            ],
            "image/png": "[encoded data removed]"
          },
          "metadata": {
            "needs_background": "light"
          }
        }
      ],
      "source": [
        "#CONTAR AS CLASSIFICACOES\n",
        "# Classe menoria = 0\n",
        "count_class_0 = target_count[0]\n",
        "# Classe Maioria = 1\n",
        "count_class_1 = target_count[1]\n",
        "count_class_2 = target_count[2]\n",
        "count_class_3 = target_count[3]\n",
        "count_class_4 = target_count[4]\n",
        "count_class_5 = target_count[5]\n",
        "count_class_6 = target_count[6]\n",
        "count_class_7 = target_count[7]\n",
        "\n",
        "#DIVIDE O DATA FRAME POR CLASSIFICACAO\n",
        "df_class_0 = dados[dados['nota_de_saida'] == 0]\n",
        "df_class_1 = dados[dados['nota_de_saida'] == 1]\n",
        "df_class_2 = dados[dados['nota_de_saida'] == 2]\n",
        "df_class_3 = dados[dados['nota_de_saida'] == 3]\n",
        "df_class_4 = dados[dados['nota_de_saida'] == 4]\n",
        "df_class_5 = dados[dados['nota_de_saida'] == 5]\n",
        "df_class_6 = dados[dados['nota_de_saida'] == 6]\n",
        "df_class_7 = dados[dados['nota_de_saida'] == 7]\n",
        "\n",
        "\n",
        "#EQUALIZANDO A BASE POR UNDER SAMPLING\n",
        "df_class_0_over = df_class_0.sample(count_class_1, replace=True)\n",
        "df_test_over1 = pd.concat([df_class_0_over, df_class_1], axis=0)\n",
        "df_test_over1 = df_class_1.sample(count_class_2, replace=True)\n",
        "df_test_over2 = df_class_2.sample(count_class_3, replace=True)\n",
        "df_test_over3 = df_class_3.sample(count_class_4, replace=True)\n",
        "df_test_over4 = df_class_4.sample(count_class_5, replace=True)\n",
        "df_test_over5 = df_class_5.sample(count_class_6, replace=True)\n",
        "df_test_over6 = df_class_6.sample(count_class_7, replace=True)\n",
        "df_test_over7 = pd.concat([df_class_0_over, df_test_over1, df_test_over2, df_test_over3,df_test_over4, df_test_over5, df_test_over6, df_class_7], axis=0)\n",
        "\n",
        "\n",
        "print('Random over-sampling:')\n",
        "print(df_test_over7.nota_de_saida.value_counts())\n",
        "\n",
        "df_test_over7.nota_de_saida.value_counts().plot(kind='bar', title='Count (nota_de_saida)')"
      ]
    },
    {
      "cell_type": "code",
      "execution_count": null,
      "metadata": {
        "colab": {
          "base_uri": "https://localhost:8080/",
          "height": 90
        },
        "id": "BdyVnfuSGp0H",
        "outputId": "cbb524c5-a928-4146-d890-b5247da9baed"
      },
      "outputs": [
        {
          "output_type": "stream",
          "name": "stderr",
          "text": [
            "/usr/local/lib/python3.7/dist-packages/seaborn/_decorators.py:43: FutureWarning: Pass the following variable as a keyword arg: x. From version 0.12, the only valid positional argument will be `data`, and passing other arguments without an explicit keyword will result in an error or misinterpretation.\n",
            "  FutureWarning\n"
          ]
        },
        {
          "output_type": "display_data",
          "data": {
            "text/plain": [
              "<Figure size 432x288 with 1 Axes>"
            ],
            "image/png": "[encoded data removed]"
          },
          "metadata": {
            "needs_background": "light"
          }
        }
      ],
      "source": [
        "ax = sns.boxplot(df_test_over7.nota_de_saida.value_counts())"
      ]
    },
    {
      "cell_type": "markdown",
      "metadata": {
        "id": "mVgNKbNmPj7Z"
      },
      "source": [
        "**R**: Através da aplicação do oversampling não conseguimos alcançar o mesmo tamanho para as classes. No entanto, houve uma melhora na distribuição, conforme podemos verificar pelo gráfico boxplot do antes e depois da aplicação da técnica. A amplitude entre as classes diminui, proporcionando uma maior taxa de equalização do tamanho das classes."
      ]
    },
    {
      "cell_type": "markdown",
      "metadata": {
        "id": "qFRg__jUF57L"
      },
      "source": [
        "## **1.C) Utilize a biblioteca AUTOML para fazer a previsão. Para o melhor algoritmo, teste 3 variações de um dos seus hiperparâmetros.**"
      ]
    },
    {
      "cell_type": "code",
      "execution_count": null,
      "metadata": {
        "id": "o2RmZO9-Lx2k"
      },
      "outputs": [],
      "source": [
        "X = dados[['idade', 'sexo', 'Formacao_ensino_medio', 'tipo_bolsa',\n",
        "       'trabalho_adicional', 'atividades_diversas', 'tem_companheiro',\n",
        "       'salario_total', 'transporte_universidade', 'tipo_moradia',\n",
        "       'status_parental', 'horas_semanais_estudo', 'freq_leitura',\n",
        "       'freq_leitura_cientifica', 'presenca_seminarios', 'impacto_sucesso',\n",
        "       'freq_aulas', 'prep_exames_1', 'prep_exames_2', 'faz_anotacoes',\n",
        "       'ouve_aulas', 'gosta_de_discussoes', 'flip_classroom',\n",
        "       'media_notas_acumuladas_ult_semestre',\n",
        "       'media_notas_acumuladas_esp_graduacao', 'ID_curso']]\n",
        "Y = dados['nota_de_saida']\n",
        "\n",
        "SEED = 158020\n",
        "np.random.seed(SEED)\n",
        "treino_x, teste_x, treino_y, teste_y = train_test_split(X, Y, test_size = 0.20,\n",
        "                                                         stratify = Y)\n"
      ]
    },
    {
      "cell_type": "markdown",
      "metadata": {
        "id": "NLnASEYISYQQ"
      },
      "source": [
        "TÉCNICA DE AUTOML - ÁRVORE DE DECISÃO\n",
        "\n",
        "Hiperparâmetro - Max_depth\n",
        "  \n",
        "    Variações a serem utilizadas\n",
        "    max_depth = 4\n",
        "    max_depth = 10\n",
        "    max_depth = 40"
      ]
    },
    {
      "cell_type": "code",
      "execution_count": null,
      "metadata": {
        "id": "J_7LzoX8RR_a"
      },
      "outputs": [],
      "source": [
        "modelo = DecisionTreeClassifier(max_depth=4)\n",
        "modelo.fit(treino_x, treino_y)\n",
        "previsoes_4 = modelo.predict(teste_x)"
      ]
    },
    {
      "cell_type": "code",
      "execution_count": null,
      "metadata": {
        "colab": {
          "base_uri": "https://localhost:8080/"
        },
        "id": "aj2ttrRsRZ46",
        "outputId": "96a2ca56-f0fb-4b8e-9c13-38f0a28ad6ed"
      },
      "outputs": [
        {
          "output_type": "execute_result",
          "data": {
            "text/plain": [
              "array([1, 6, 1, 6, 3, 1, 7, 1, 6, 1, 1, 0, 1, 7, 7, 1, 2, 0, 1, 5, 1, 1,\n",
              "       6, 1, 1, 3, 1, 6, 5])"
            ]
          },
          "metadata": {},
          "execution_count": 84
        }
      ],
      "source": [
        "previsoes_4"
      ]
    },
    {
      "cell_type": "code",
      "execution_count": null,
      "metadata": {
        "id": "mWGizlzzSNaJ"
      },
      "outputs": [],
      "source": [
        "modelo = DecisionTreeClassifier(max_depth=10)\n",
        "modelo.fit(treino_x, treino_y)\n",
        "previsoes_10 = modelo.predict(teste_x)"
      ]
    },
    {
      "cell_type": "code",
      "execution_count": null,
      "metadata": {
        "colab": {
          "base_uri": "https://localhost:8080/"
        },
        "id": "cCB7MWEWV_vY",
        "outputId": "a8fd6d3b-7313-43a4-fd54-8459fa425073"
      },
      "outputs": [
        {
          "output_type": "execute_result",
          "data": {
            "text/plain": [
              "(29,)"
            ]
          },
          "metadata": {},
          "execution_count": 86
        }
      ],
      "source": [
        "teste_y.shape"
      ]
    },
    {
      "cell_type": "code",
      "execution_count": null,
      "metadata": {
        "colab": {
          "base_uri": "https://localhost:8080/"
        },
        "id": "R4Q49Xr6StI5",
        "outputId": "097b4853-9413-48c6-a854-797ac7874e57"
      },
      "outputs": [
        {
          "output_type": "execute_result",
          "data": {
            "text/plain": [
              "array([5, 6, 1, 6, 5, 1, 7, 1, 5, 2, 2, 0, 1, 6, 5, 1, 2, 7, 1, 0, 1, 1,\n",
              "       7, 3, 2, 5, 0, 6, 5])"
            ]
          },
          "metadata": {},
          "execution_count": 87
        }
      ],
      "source": [
        "previsoes_10"
      ]
    },
    {
      "cell_type": "code",
      "execution_count": null,
      "metadata": {
        "id": "PmM_ZUh0Su-h"
      },
      "outputs": [],
      "source": [
        "modelo = DecisionTreeClassifier(max_depth=40)\n",
        "modelo.fit(treino_x, treino_y)\n",
        "previsoes_40 = modelo.predict(teste_x)"
      ]
    },
    {
      "cell_type": "code",
      "execution_count": null,
      "metadata": {
        "colab": {
          "base_uri": "https://localhost:8080/"
        },
        "id": "6mrP3VR8S1lZ",
        "outputId": "1c5e7724-86e0-455f-f376-a537206ccbc3"
      },
      "outputs": [
        {
          "output_type": "execute_result",
          "data": {
            "text/plain": [
              "array([2, 4, 1, 5, 5, 1, 7, 1, 4, 2, 2, 0, 1, 7, 7, 1, 2, 0, 1, 0, 1, 1,\n",
              "       7, 7, 2, 5, 7, 6, 5])"
            ]
          },
          "metadata": {},
          "execution_count": 89
        }
      ],
      "source": [
        "previsoes_40"
      ]
    },
    {
      "cell_type": "markdown",
      "metadata": {
        "id": "msX1FkexS-z1"
      },
      "source": [
        "## **1.D) Para avaliar os resultados, utilize e explique a matriz de confusão. Além disso, escolha 2 métricas de sua preferência e o que o seu resultado significa.**"
      ]
    },
    {
      "cell_type": "code",
      "execution_count": null,
      "metadata": {
        "colab": {
          "base_uri": "https://localhost:8080/"
        },
        "id": "RzIt6sEiS4uw",
        "outputId": "852b92cf-2a9d-40cd-af5c-397dd1f18c29"
      },
      "outputs": [
        {
          "output_type": "stream",
          "name": "stdout",
          "text": [
            "Previsto  0   1  2  3  5  6  7  All\n",
            "Real                               \n",
            "0         1   1  0  0  0  0  0    2\n",
            "1         0   5  0  0  2  0  0    7\n",
            "2         0   4  1  0  0  0  0    5\n",
            "3         1   0  0  2  0  0  1    4\n",
            "4         0   1  0  0  0  1  0    2\n",
            "5         0   2  0  0  0  1  0    3\n",
            "6         0   1  0  0  0  1  1    3\n",
            "7         0   0  0  0  0  2  1    3\n",
            "All       2  14  1  2  2  5  3   29\n",
            "Acurácia: 0.379310\n"
          ]
        }
      ],
      "source": [
        "# matriz de confusão em sklearn\n",
        "from sklearn.metrics import confusion_matrix\n",
        "from sklearn.metrics import classification_report\n",
        "from sklearn.metrics import accuracy_score #acuracia\n",
        "\n",
        "# valores reais\n",
        "real = teste_y\n",
        "# valores previstos\n",
        "previsto = previsoes_4\n",
        "\n",
        "#matriz de confusão\n",
        "print(pd.crosstab(real,previsto, rownames=['Real'], colnames=['Previsto'], margins=True))\n",
        "\n",
        "# Acurácia\n",
        "\n",
        "acuracia = accuracy_score(real, previsto)\n",
        "print('Acurácia: %f' % acuracia)"
      ]
    },
    {
      "cell_type": "code",
      "execution_count": null,
      "metadata": {
        "colab": {
          "base_uri": "https://localhost:8080/"
        },
        "id": "sc68nEWoZMBI",
        "outputId": "4533a00c-a5fd-4210-b6c0-26bb173360e8"
      },
      "outputs": [
        {
          "output_type": "stream",
          "name": "stdout",
          "text": [
            "Previsto  0  1  2  3  5  6  7  All\n",
            "Real                              \n",
            "0         1  0  1  0  0  0  0    2\n",
            "1         2  3  1  0  1  0  0    7\n",
            "2         0  2  2  0  1  0  0    5\n",
            "3         0  0  0  0  2  1  1    4\n",
            "4         0  1  0  0  0  0  1    2\n",
            "5         0  2  0  0  1  0  0    3\n",
            "6         0  0  0  1  1  1  0    3\n",
            "7         0  0  0  0  0  2  1    3\n",
            "All       3  8  4  1  6  4  3   29\n",
            "Acurácia: 0.310345\n"
          ]
        }
      ],
      "source": [
        "# valores reais\n",
        "real = teste_y\n",
        "# valores previstos\n",
        "previsto = previsoes_10\n",
        "\n",
        "#matriz de confusão\n",
        "print(pd.crosstab(real,previsto, rownames=['Real'], colnames=['Previsto'], margins=True))\n",
        "\n",
        "# Acurácia\n",
        "\n",
        "acuracia = accuracy_score(real, previsto)\n",
        "print('Acurácia: %f' % acuracia)"
      ]
    },
    {
      "cell_type": "code",
      "execution_count": null,
      "metadata": {
        "colab": {
          "base_uri": "https://localhost:8080/"
        },
        "id": "s83ymX2GTCo4",
        "outputId": "00cee020-e771-4440-db6b-51d1122a32dc"
      },
      "outputs": [
        {
          "output_type": "stream",
          "name": "stdout",
          "text": [
            "Previsto  0  1  2  4  5  6  7  All\n",
            "Real                              \n",
            "0         1  0  1  0  0  0  0    2\n",
            "1         1  3  1  0  1  0  1    7\n",
            "2         0  2  3  0  0  0  0    5\n",
            "3         1  0  0  0  2  0  1    4\n",
            "4         0  1  0  0  0  0  1    2\n",
            "5         0  2  0  1  0  0  0    3\n",
            "6         0  0  0  1  0  0  2    3\n",
            "7         0  0  0  0  1  1  1    3\n",
            "All       3  8  5  2  4  1  6   29\n",
            "Acurácia: 0.275862\n"
          ]
        }
      ],
      "source": [
        "# valores reais\n",
        "real = teste_y\n",
        "# valores previstos\n",
        "previsto = previsoes_40\n",
        "\n",
        "#matriz de confusão\n",
        "print(pd.crosstab(real,previsto, rownames=['Real'], colnames=['Previsto'], margins=True))\n",
        "\n",
        "# Acurácia\n",
        "acuracia = accuracy_score(real, previsto)\n",
        "print('Acurácia: %f' % acuracia)"
      ]
    },
    {
      "cell_type": "markdown",
      "metadata": {
        "id": "qJhRywYXQbAm"
      },
      "source": [
        "### **R**: A matriz de confusão é uma tabela que mostra as frequências de classificação para cada classe do modelo, mostra as frequências:\n",
        "\n",
        "#### Verdadeiro positivo (true positive — TP): ocorre quando no conjunto real, a classe que estamos buscando foi prevista corretamente. \n",
        "#### Falso positivo (false positive — FP): ocorre quando no conjunto real, a classe que estamos buscando prever foi prevista incorretamente. \n",
        "#### Falso verdadeiro (true negative — TN): ocorre quando no conjunto real, a classe que não estamos buscando prever foi prevista corretamente.\n",
        "#### Falso negativo (false negative — FN): ocorre quando no conjunto real, a classe que não estamos buscando prever foi prevista incorretamente. \n",
        "\n",
        "### A métrica selecionada para auxilio na compreensão dos resultados da matriz de confusão é a acurácia, pois consegue nos dizer quanto o modelo acertou das previsões possiveis. Conforme calculado, não tivemos scores de acurácia superiores a 50%, o que representa resultados insatisfatórios. "
      ]
    },
    {
      "cell_type": "markdown",
      "metadata": {
        "id": "2ta44MBprvti"
      },
      "source": [
        "# **Questão 2 - Utilize a mesma base de dados (lembrem de tirar o rótulo, obviamente) da questão anterior de forma que:**"
      ]
    },
    {
      "cell_type": "code",
      "execution_count": null,
      "metadata": {
        "id": "DUgK5JL8vo0D"
      },
      "outputs": [],
      "source": [
        "dados = dados.drop(labels = ['ID_aluno'], axis = 1)"
      ]
    },
    {
      "cell_type": "code",
      "execution_count": null,
      "metadata": {
        "colab": {
          "base_uri": "https://localhost:8080/",
          "height": 488
        },
        "id": "OV8D2Uom25ap",
        "outputId": "ee9aa8a5-99c9-4fab-9769-a532a2e28680"
      },
      "outputs": [
        {
          "output_type": "execute_result",
          "data": {
            "text/plain": [
              "     idade  sexo  Formacao_ensino_medio  tipo_bolsa  trabalho_adicional  \\\n",
              "0        2     2                      3           3                   1   \n",
              "1        2     2                      3           3                   1   \n",
              "2        2     2                      2           3                   2   \n",
              "3        1     1                      1           3                   1   \n",
              "4        2     2                      1           3                   2   \n",
              "..     ...   ...                    ...         ...                 ...   \n",
              "140      2     1                      2           3                   1   \n",
              "141      1     1                      2           4                   2   \n",
              "142      1     1                      1           4                   2   \n",
              "143      2     1                      2           4                   1   \n",
              "144      1     1                      1           5                   2   \n",
              "\n",
              "     atividades_diversas  tem_companheiro  salario_total  \\\n",
              "0                      2                2              1   \n",
              "1                      2                2              1   \n",
              "2                      2                2              2   \n",
              "3                      2                1              2   \n",
              "4                      2                1              3   \n",
              "..                   ...              ...            ...   \n",
              "140                    1                2              1   \n",
              "141                    2                2              1   \n",
              "142                    2                2              1   \n",
              "143                    1                1              5   \n",
              "144                    2                2              3   \n",
              "\n",
              "     transporte_universidade  tipo_moradia  ...  prep_exames_2  faz_anotacoes  \\\n",
              "0                          1             1  ...              1              3   \n",
              "1                          1             1  ...              1              3   \n",
              "2                          4             2  ...              1              2   \n",
              "3                          1             2  ...              2              3   \n",
              "4                          1             4  ...              1              2   \n",
              "..                       ...           ...  ...            ...            ...   \n",
              "140                        1             2  ...              1              2   \n",
              "141                        4             2  ...              1              3   \n",
              "142                        1             1  ...              1              3   \n",
              "143                        2             3  ...              1              2   \n",
              "144                        1             1  ...              1              3   \n",
              "\n",
              "     ouve_aulas  gosta_de_discussoes  flip_classroom  \\\n",
              "0             2                    1               2   \n",
              "1             2                    3               2   \n",
              "2             2                    1               1   \n",
              "3             2                    2               1   \n",
              "4             2                    2               1   \n",
              "..          ...                  ...             ...   \n",
              "140           1                    2               1   \n",
              "141           2                    2               1   \n",
              "142           3                    2               1   \n",
              "143           1                    2               1   \n",
              "144           2                    3               1   \n",
              "\n",
              "     media_notas_acumuladas_ult_semestre  \\\n",
              "0                                      1   \n",
              "1                                      2   \n",
              "2                                      2   \n",
              "3                                      3   \n",
              "4                                      2   \n",
              "..                                   ...   \n",
              "140                                    3   \n",
              "141                                    5   \n",
              "142                                    4   \n",
              "143                                    5   \n",
              "144                                    5   \n",
              "\n",
              "     media_notas_acumuladas_esp_graduacao  ID_curso  nota_de_saida  ID_aluno  \n",
              "0                                       1         1              1         1  \n",
              "1                                       3         1              1         2  \n",
              "2                                       2         1              1         3  \n",
              "3                                       2         1              1         4  \n",
              "4                                       2         1              1         5  \n",
              "..                                    ...       ...            ...       ...  \n",
              "140                                     3         9              5       141  \n",
              "141                                     3         9              5       142  \n",
              "142                                     3         9              1       143  \n",
              "143                                     3         9              4       144  \n",
              "144                                     4         9              3       145  \n",
              "\n",
              "[145 rows x 28 columns]"
            ],
            "text/html": [
              "\n",
              "  <div id=\"df-90313ff0-8556-44db-b578-a40971b2eca7\">\n",
              "    <div class=\"colab-df-container\">\n",
              "      <div>\n",
              "<style scoped>\n",
              "    .dataframe tbody tr th:only-of-type {\n",
              "        vertical-align: middle;\n",
              "    }\n",
              "\n",
              "    .dataframe tbody tr th {\n",
              "        vertical-align: top;\n",
              "    }\n",
              "\n",
              "    .dataframe thead th {\n",
              "        text-align: right;\n",
              "    }\n",
              "</style>\n",
              "<table border=\"1\" class=\"dataframe\">\n",
              "  <thead>\n",
              "    <tr style=\"text-align: right;\">\n",
              "      <th></th>\n",
              "      <th>idade</th>\n",
              "      <th>sexo</th>\n",
              "      <th>Formacao_ensino_medio</th>\n",
              "      <th>tipo_bolsa</th>\n",
              "      <th>trabalho_adicional</th>\n",
              "      <th>atividades_diversas</th>\n",
              "      <th>tem_companheiro</th>\n",
              "      <th>salario_total</th>\n",
              "      <th>transporte_universidade</th>\n",
              "      <th>tipo_moradia</th>\n",
              "      <th>...</th>\n",
              "      <th>prep_exames_2</th>\n",
              "      <th>faz_anotacoes</th>\n",
              "      <th>ouve_aulas</th>\n",
              "      <th>gosta_de_discussoes</th>\n",
              "      <th>flip_classroom</th>\n",
              "      <th>media_notas_acumuladas_ult_semestre</th>\n",
              "      <th>media_notas_acumuladas_esp_graduacao</th>\n",
              "      <th>ID_curso</th>\n",
              "      <th>nota_de_saida</th>\n",
              "      <th>ID_aluno</th>\n",
              "    </tr>\n",
              "  </thead>\n",
              "  <tbody>\n",
              "    <tr>\n",
              "      <th>0</th>\n",
              "      <td>2</td>\n",
              "      <td>2</td>\n",
              "      <td>3</td>\n",
              "      <td>3</td>\n",
              "      <td>1</td>\n",
              "      <td>2</td>\n",
              "      <td>2</td>\n",
              "      <td>1</td>\n",
              "      <td>1</td>\n",
              "      <td>1</td>\n",
              "      <td>...</td>\n",
              "      <td>1</td>\n",
              "      <td>3</td>\n",
              "      <td>2</td>\n",
              "      <td>1</td>\n",
              "      <td>2</td>\n",
              "      <td>1</td>\n",
              "      <td>1</td>\n",
              "      <td>1</td>\n",
              "      <td>1</td>\n",
              "      <td>1</td>\n",
              "    </tr>\n",
              "    <tr>\n",
              "      <th>1</th>\n",
              "      <td>2</td>\n",
              "      <td>2</td>\n",
              "      <td>3</td>\n",
              "      <td>3</td>\n",
              "      <td>1</td>\n",
              "      <td>2</td>\n",
              "      <td>2</td>\n",
              "      <td>1</td>\n",
              "      <td>1</td>\n",
              "      <td>1</td>\n",
              "      <td>...</td>\n",
              "      <td>1</td>\n",
              "      <td>3</td>\n",
              "      <td>2</td>\n",
              "      <td>3</td>\n",
              "      <td>2</td>\n",
              "      <td>2</td>\n",
              "      <td>3</td>\n",
              "      <td>1</td>\n",
              "      <td>1</td>\n",
              "      <td>2</td>\n",
              "    </tr>\n",
              "    <tr>\n",
              "      <th>2</th>\n",
              "      <td>2</td>\n",
              "      <td>2</td>\n",
              "      <td>2</td>\n",
              "      <td>3</td>\n",
              "      <td>2</td>\n",
              "      <td>2</td>\n",
              "      <td>2</td>\n",
              "      <td>2</td>\n",
              "      <td>4</td>\n",
              "      <td>2</td>\n",
              "      <td>...</td>\n",
              "      <td>1</td>\n",
              "      <td>2</td>\n",
              "      <td>2</td>\n",
              "      <td>1</td>\n",
              "      <td>1</td>\n",
              "      <td>2</td>\n",
              "      <td>2</td>\n",
              "      <td>1</td>\n",
              "      <td>1</td>\n",
              "      <td>3</td>\n",
              "    </tr>\n",
              "    <tr>\n",
              "      <th>3</th>\n",
              "      <td>1</td>\n",
              "      <td>1</td>\n",
              "      <td>1</td>\n",
              "      <td>3</td>\n",
              "      <td>1</td>\n",
              "      <td>2</td>\n",
              "      <td>1</td>\n",
              "      <td>2</td>\n",
              "      <td>1</td>\n",
              "      <td>2</td>\n",
              "      <td>...</td>\n",
              "      <td>2</td>\n",
              "      <td>3</td>\n",
              "      <td>2</td>\n",
              "      <td>2</td>\n",
              "      <td>1</td>\n",
              "      <td>3</td>\n",
              "      <td>2</td>\n",
              "      <td>1</td>\n",
              "      <td>1</td>\n",
              "      <td>4</td>\n",
              "    </tr>\n",
              "    <tr>\n",
              "      <th>4</th>\n",
              "      <td>2</td>\n",
              "      <td>2</td>\n",
              "      <td>1</td>\n",
              "      <td>3</td>\n",
              "      <td>2</td>\n",
              "      <td>2</td>\n",
              "      <td>1</td>\n",
              "      <td>3</td>\n",
              "      <td>1</td>\n",
              "      <td>4</td>\n",
              "      <td>...</td>\n",
              "      <td>1</td>\n",
              "      <td>2</td>\n",
              "      <td>2</td>\n",
              "      <td>2</td>\n",
              "      <td>1</td>\n",
              "      <td>2</td>\n",
              "      <td>2</td>\n",
              "      <td>1</td>\n",
              "      <td>1</td>\n",
              "      <td>5</td>\n",
              "    </tr>\n",
              "    <tr>\n",
              "      <th>...</th>\n",
              "      <td>...</td>\n",
              "      <td>...</td>\n",
              "      <td>...</td>\n",
              "      <td>...</td>\n",
              "      <td>...</td>\n",
              "      <td>...</td>\n",
              "      <td>...</td>\n",
              "      <td>...</td>\n",
              "      <td>...</td>\n",
              "      <td>...</td>\n",
              "      <td>...</td>\n",
              "      <td>...</td>\n",
              "      <td>...</td>\n",
              "      <td>...</td>\n",
              "      <td>...</td>\n",
              "      <td>...</td>\n",
              "      <td>...</td>\n",
              "      <td>...</td>\n",
              "      <td>...</td>\n",
              "      <td>...</td>\n",
              "      <td>...</td>\n",
              "    </tr>\n",
              "    <tr>\n",
              "      <th>140</th>\n",
              "      <td>2</td>\n",
              "      <td>1</td>\n",
              "      <td>2</td>\n",
              "      <td>3</td>\n",
              "      <td>1</td>\n",
              "      <td>1</td>\n",
              "      <td>2</td>\n",
              "      <td>1</td>\n",
              "      <td>1</td>\n",
              "      <td>2</td>\n",
              "      <td>...</td>\n",
              "      <td>1</td>\n",
              "      <td>2</td>\n",
              "      <td>1</td>\n",
              "      <td>2</td>\n",
              "      <td>1</td>\n",
              "      <td>3</td>\n",
              "      <td>3</td>\n",
              "      <td>9</td>\n",
              "      <td>5</td>\n",
              "      <td>141</td>\n",
              "    </tr>\n",
              "    <tr>\n",
              "      <th>141</th>\n",
              "      <td>1</td>\n",
              "      <td>1</td>\n",
              "      <td>2</td>\n",
              "      <td>4</td>\n",
              "      <td>2</td>\n",
              "      <td>2</td>\n",
              "      <td>2</td>\n",
              "      <td>1</td>\n",
              "      <td>4</td>\n",
              "      <td>2</td>\n",
              "      <td>...</td>\n",
              "      <td>1</td>\n",
              "      <td>3</td>\n",
              "      <td>2</td>\n",
              "      <td>2</td>\n",
              "      <td>1</td>\n",
              "      <td>5</td>\n",
              "      <td>3</td>\n",
              "      <td>9</td>\n",
              "      <td>5</td>\n",
              "      <td>142</td>\n",
              "    </tr>\n",
              "    <tr>\n",
              "      <th>142</th>\n",
              "      <td>1</td>\n",
              "      <td>1</td>\n",
              "      <td>1</td>\n",
              "      <td>4</td>\n",
              "      <td>2</td>\n",
              "      <td>2</td>\n",
              "      <td>2</td>\n",
              "      <td>1</td>\n",
              "      <td>1</td>\n",
              "      <td>1</td>\n",
              "      <td>...</td>\n",
              "      <td>1</td>\n",
              "      <td>3</td>\n",
              "      <td>3</td>\n",
              "      <td>2</td>\n",
              "      <td>1</td>\n",
              "      <td>4</td>\n",
              "      <td>3</td>\n",
              "      <td>9</td>\n",
              "      <td>1</td>\n",
              "      <td>143</td>\n",
              "    </tr>\n",
              "    <tr>\n",
              "      <th>143</th>\n",
              "      <td>2</td>\n",
              "      <td>1</td>\n",
              "      <td>2</td>\n",
              "      <td>4</td>\n",
              "      <td>1</td>\n",
              "      <td>1</td>\n",
              "      <td>1</td>\n",
              "      <td>5</td>\n",
              "      <td>2</td>\n",
              "      <td>3</td>\n",
              "      <td>...</td>\n",
              "      <td>1</td>\n",
              "      <td>2</td>\n",
              "      <td>1</td>\n",
              "      <td>2</td>\n",
              "      <td>1</td>\n",
              "      <td>5</td>\n",
              "      <td>3</td>\n",
              "      <td>9</td>\n",
              "      <td>4</td>\n",
              "      <td>144</td>\n",
              "    </tr>\n",
              "    <tr>\n",
              "      <th>144</th>\n",
              "      <td>1</td>\n",
              "      <td>1</td>\n",
              "      <td>1</td>\n",
              "      <td>5</td>\n",
              "      <td>2</td>\n",
              "      <td>2</td>\n",
              "      <td>2</td>\n",
              "      <td>3</td>\n",
              "      <td>1</td>\n",
              "      <td>1</td>\n",
              "      <td>...</td>\n",
              "      <td>1</td>\n",
              "      <td>3</td>\n",
              "      <td>2</td>\n",
              "      <td>3</td>\n",
              "      <td>1</td>\n",
              "      <td>5</td>\n",
              "      <td>4</td>\n",
              "      <td>9</td>\n",
              "      <td>3</td>\n",
              "      <td>145</td>\n",
              "    </tr>\n",
              "  </tbody>\n",
              "</table>\n",
              "<p>145 rows × 28 columns</p>\n",
              "</div>\n",
              "      <button class=\"colab-df-convert\" onclick=\"convertToInteractive('df-90313ff0-8556-44db-b578-a40971b2eca7')\"\n",
              "              title=\"Convert this dataframe to an interactive table.\"\n",
              "              style=\"display:none;\">\n",
              "        \n",
              "  <svg xmlns=\"http://www.w3.org/2000/svg\" height=\"24px\"viewBox=\"0 0 24 24\"\n",
              "       width=\"24px\">\n",
              "    <path d=\"M0 0h24v24H0V0z\" fill=\"none\"/>\n",
              "    <path d=\"M18.56 5.44l.94 2.06.94-2.06 2.06-.94-2.06-.94-.94-2.06-.94 2.06-2.06.94zm-11 1L8.5 8.5l.94-2.06 2.06-.94-2.06-.94L8.5 2.5l-.94 2.06-2.06.94zm10 10l.94 2.06.94-2.06 2.06-.94-2.06-.94-.94-2.06-.94 2.06-2.06.94z\"/><path d=\"M17.41 7.96l-1.37-1.37c-.4-.4-.92-.59-1.43-.59-.52 0-1.04.2-1.43.59L10.3 9.45l-7.72 7.72c-.78.78-.78 2.05 0 2.83L4 21.41c.39.39.9.59 1.41.59.51 0 1.02-.2 1.41-.59l7.78-7.78 2.81-2.81c.8-.78.8-2.07 0-2.86zM5.41 20L4 18.59l7.72-7.72 1.47 1.35L5.41 20z\"/>\n",
              "  </svg>\n",
              "      </button>\n",
              "      \n",
              "  <style>\n",
              "    .colab-df-container {\n",
              "      display:flex;\n",
              "      flex-wrap:wrap;\n",
              "      gap: 12px;\n",
              "    }\n",
              "\n",
              "    .colab-df-convert {\n",
              "      background-color: #E8F0FE;\n",
              "      border: none;\n",
              "      border-radius: 50%;\n",
              "      cursor: pointer;\n",
              "      display: none;\n",
              "      fill: #1967D2;\n",
              "      height: 32px;\n",
              "      padding: 0 0 0 0;\n",
              "      width: 32px;\n",
              "    }\n",
              "\n",
              "    .colab-df-convert:hover {\n",
              "      background-color: #E2EBFA;\n",
              "      box-shadow: 0px 1px 2px rgba(60, 64, 67, 0.3), 0px 1px 3px 1px rgba(60, 64, 67, 0.15);\n",
              "      fill: #174EA6;\n",
              "    }\n",
              "\n",
              "    [theme=dark] .colab-df-convert {\n",
              "      background-color: #3B4455;\n",
              "      fill: #D2E3FC;\n",
              "    }\n",
              "\n",
              "    [theme=dark] .colab-df-convert:hover {\n",
              "      background-color: #434B5C;\n",
              "      box-shadow: 0px 1px 3px 1px rgba(0, 0, 0, 0.15);\n",
              "      filter: drop-shadow(0px 1px 2px rgba(0, 0, 0, 0.3));\n",
              "      fill: #FFFFFF;\n",
              "    }\n",
              "  </style>\n",
              "\n",
              "      <script>\n",
              "        const buttonEl =\n",
              "          document.querySelector('#df-90313ff0-8556-44db-b578-a40971b2eca7 button.colab-df-convert');\n",
              "        buttonEl.style.display =\n",
              "          google.colab.kernel.accessAllowed ? 'block' : 'none';\n",
              "\n",
              "        async function convertToInteractive(key) {\n",
              "          const element = document.querySelector('#df-90313ff0-8556-44db-b578-a40971b2eca7');\n",
              "          const dataTable =\n",
              "            await google.colab.kernel.invokeFunction('convertToInteractive',\n",
              "                                                     [key], {});\n",
              "          if (!dataTable) return;\n",
              "\n",
              "          const docLinkHtml = 'Like what you see? Visit the ' +\n",
              "            '<a target=\"_blank\" href=https://colab.research.google.com/notebooks/data_table.ipynb>data table notebook</a>'\n",
              "            + ' to learn more about interactive tables.';\n",
              "          element.innerHTML = '';\n",
              "          dataTable['output_type'] = 'display_data';\n",
              "          await google.colab.output.renderOutput(dataTable, element);\n",
              "          const docLink = document.createElement('div');\n",
              "          docLink.innerHTML = docLinkHtml;\n",
              "          element.appendChild(docLink);\n",
              "        }\n",
              "      </script>\n",
              "    </div>\n",
              "  </div>\n",
              "  "
            ]
          },
          "metadata": {},
          "execution_count": 94
        }
      ],
      "source": [
        "dados['ID_aluno'] = range(1,146)\n",
        "dados"
      ]
    },
    {
      "cell_type": "markdown",
      "metadata": {
        "id": "J4YXeBkU3ynn"
      },
      "source": [
        "## 2.A) Utilizando K-means:"
      ]
    },
    {
      "cell_type": "code",
      "execution_count": null,
      "metadata": {
        "colab": {
          "base_uri": "https://localhost:8080/"
        },
        "id": "5fZgDSGiaGpV",
        "outputId": "0195d72e-9604-4004-d6b2-38b6a963376e"
      },
      "outputs": [
        {
          "output_type": "execute_result",
          "data": {
            "text/plain": [
              "array([[0.5       , 1.        , 1.        , ..., 0.        , 0.14285714,\n",
              "        0.        ],\n",
              "       [0.5       , 1.        , 1.        , ..., 0.        , 0.14285714,\n",
              "        0.00694444],\n",
              "       [0.5       , 1.        , 0.5       , ..., 0.        , 0.14285714,\n",
              "        0.01388889],\n",
              "       ...,\n",
              "       [0.        , 0.        , 0.        , ..., 1.        , 0.14285714,\n",
              "        0.98611111],\n",
              "       [0.5       , 0.        , 0.5       , ..., 1.        , 0.57142857,\n",
              "        0.99305556],\n",
              "       [0.        , 0.        , 0.        , ..., 1.        , 0.42857143,\n",
              "        1.        ]])"
            ]
          },
          "metadata": {},
          "execution_count": 95
        }
      ],
      "source": [
        "from sklearn.cluster import KMeans\n",
        "from sklearn import preprocessing\n",
        "\n",
        "min_max_scaler = preprocessing.MinMaxScaler()\n",
        "np_dataset = min_max_scaler.fit_transform(dados)\n",
        "np_dataset\n",
        "\n"
      ]
    },
    {
      "cell_type": "code",
      "execution_count": null,
      "metadata": {
        "colab": {
          "base_uri": "https://localhost:8080/"
        },
        "id": "IUEeqBIKr0xh",
        "outputId": "052437b4-1ed0-4487-94c8-6f3ede2f97d2"
      },
      "outputs": [
        {
          "output_type": "stream",
          "name": "stdout",
          "text": [
            "[2 2 2 1 1 2 2 1 1 1 2 0 2 2 2 2 2 2 2 1 1 1 1 2 2 1 1 2 1 2 1 2 2 1 1 2 1\n",
            " 1 2 1 2 2 2 1 1 1 1 1 1 2 1 2 2 2 2 1 2 2 1 1 2 2 2 1 2 1 1 2 2 1 1 2 1 2\n",
            " 2 2 2 1 0 2 1 2 1 2 1 2 2 2 1 2 1 1 2 1 1 1 1 2 2 2 2 1 1 1 0 2 2 0 0 1 2\n",
            " 0 0 0 0 0 0 0 1 0 0 0 2 0 0 0 0 0 0 0 0 0 0 0 0 0 0 0 0 0 0 0 0 0 0]\n"
          ]
        }
      ],
      "source": [
        "agrupador = KMeans(n_clusters=3)\n",
        "agrupador.fit(np_dataset)\n",
        "labels = agrupador.labels_\n",
        "print(labels)"
      ]
    },
    {
      "cell_type": "markdown",
      "metadata": {
        "id": "ETrm5ojBvoMa"
      },
      "source": [
        "## 2.A) Utilizando Hierárquico:"
      ]
    },
    {
      "cell_type": "code",
      "execution_count": null,
      "metadata": {
        "colab": {
          "base_uri": "https://localhost:8080/",
          "height": 54
        },
        "id": "zrKrtV-Q38Yy",
        "outputId": "5257250f-f409-4f7b-f1e3-13a6dc9b29f2"
      },
      "outputs": [
        {
          "output_type": "display_data",
          "data": {
            "text/plain": [
              "<Figure size 432x288 with 1 Axes>"
            ],
            "image/png": "[encoded data removed]"
          },
          "metadata": {
            "needs_background": "light"
          }
        }
      ],
      "source": [
        "import matplotlib.pyplot as plt\n",
        "from scipy.cluster.hierarchy import dendrogram, linkage\n",
        "from sklearn.cluster import AgglomerativeClustering\n",
        "\n",
        "\n",
        "\n",
        "dendrograma = dendrogram(linkage(np_dataset, method = 'ward'))\n",
        "plt.title('Dendrograma')\n",
        "plt.xlabel('Pessoas')\n",
        "plt.ylabel('Distância Euclidiana')\n",
        "\n",
        "hc = AgglomerativeClustering(n_clusters = 3, affinity = 'euclidean', linkage = 'ward')\n",
        "previsoes = hc.fit_predict(np_dataset)"
      ]
    },
    {
      "cell_type": "code",
      "execution_count": null,
      "metadata": {
        "colab": {
          "base_uri": "https://localhost:8080/"
        },
        "id": "V1ZNGV8E4mzD",
        "outputId": "50f03c29-8eef-4054-e5b3-2f98276ab2f2"
      },
      "outputs": [
        {
          "output_type": "execute_result",
          "data": {
            "text/plain": [
              "array([2, 2, 0, 2, 0, 0, 0, 1, 0, 2, 2, 1, 2, 2, 2, 0, 2, 0, 0, 0, 0, 0,\n",
              "       0, 2, 0, 0, 0, 0, 0, 0, 2, 2, 2, 2, 0, 0, 0, 2, 0, 2, 0, 2, 0, 0,\n",
              "       0, 0, 0, 0, 0, 0, 0, 2, 2, 2, 0, 0, 0, 2, 0, 0, 2, 0, 0, 0, 0, 0,\n",
              "       0, 2, 2, 0, 0, 2, 0, 0, 0, 0, 0, 0, 2, 0, 2, 2, 0, 0, 0, 0, 0, 0,\n",
              "       0, 0, 0, 2, 0, 0, 0, 0, 0, 0, 0, 0, 0, 0, 0, 0, 2, 2, 0, 1, 1, 0,\n",
              "       1, 1, 1, 1, 1, 1, 1, 1, 0, 1, 1, 1, 0, 1, 1, 1, 1, 1, 1, 1, 1, 1,\n",
              "       1, 1, 1, 1, 1, 1, 1, 1, 1, 1, 1, 1, 1])"
            ]
          },
          "metadata": {},
          "execution_count": 98
        }
      ],
      "source": [
        "hc = AgglomerativeClustering(n_clusters = 3, affinity = 'euclidean', linkage = 'ward')\n",
        "previsoes = hc.fit_predict(np_dataset)\n",
        "previsoes"
      ]
    },
    {
      "cell_type": "markdown",
      "metadata": {
        "id": "AT8_3kQr43EE"
      },
      "source": [
        "## 2.B) Teste o K igual à 5 e 7 - ***K-MEANS***"
      ]
    },
    {
      "cell_type": "code",
      "execution_count": null,
      "metadata": {
        "colab": {
          "base_uri": "https://localhost:8080/"
        },
        "id": "IDMRCZsn4t_6",
        "outputId": "75569f99-531f-4358-c3f3-cfc32cc526c6"
      },
      "outputs": [
        {
          "output_type": "stream",
          "name": "stdout",
          "text": [
            "K-means para 5 clusters\n",
            "[2 2 2 1 1 2 2 1 1 1 2 0 2 2 2 2 2 2 2 1 1 1 1 2 2 1 1 2 1 2 1 2 2 1 1 2 1\n",
            " 1 2 1 2 2 2 1 1 1 1 1 1 2 1 2 2 2 2 1 2 2 1 1 2 2 2 1 2 1 1 2 2 1 1 2 1 2\n",
            " 2 2 2 1 0 2 1 2 1 2 1 2 2 2 1 2 1 1 2 1 1 1 1 2 2 2 2 1 1 1 0 2 2 0 0 1 2\n",
            " 0 0 0 0 0 0 0 1 0 0 0 0 0 0 0 0 0 0 0 0 0 0 0 0 0 0 0 0 0 0 0 0 0 0]\n",
            "\n",
            "\n",
            "K-means para 7 clusters\n",
            "[2 2 2 0 0 2 2 1 0 0 2 1 2 2 2 2 2 2 2 0 0 0 0 2 2 0 0 2 0 2 0 2 2 0 0 2 0\n",
            " 0 2 0 2 2 2 0 0 0 0 0 0 2 0 2 2 2 2 0 2 2 0 0 2 2 2 0 2 0 0 2 2 0 0 2 0 2\n",
            " 2 2 2 0 1 2 0 2 0 2 0 2 2 2 0 2 0 0 2 0 0 0 0 2 2 2 2 0 0 0 2 2 2 1 1 0 2\n",
            " 1 1 1 1 1 1 1 0 1 1 1 2 1 1 1 1 1 1 1 1 1 1 1 1 1 1 1 1 1 1 1 1 1 1]\n",
            "\n",
            "\n"
          ]
        }
      ],
      "source": [
        "# K = 5\n",
        "agrupador = KMeans(n_clusters=3)\n",
        "agrupador.fit(np_dataset)\n",
        "labels = agrupador.labels_\n",
        "print('K-means para 5 clusters')\n",
        "print(labels)\n",
        "print('\\n')\n",
        "\n",
        "# K = 7\n",
        "agrupador = KMeans(n_clusters=3)\n",
        "agrupador.fit(np_dataset)\n",
        "labels = agrupador.labels_\n",
        "print('K-means para 7 clusters')\n",
        "print(labels)\n",
        "print('\\n')"
      ]
    },
    {
      "cell_type": "markdown",
      "metadata": {
        "id": "iYeSnSaJ5qF9"
      },
      "source": [
        "## 2.C) Na execução do Hierárquico, varie 2 métodos do linkage\n",
        "\n",
        "#### OBS.: utilize os mesmos valores de clusters escolhidos na questão anterior."
      ]
    },
    {
      "cell_type": "code",
      "execution_count": null,
      "metadata": {
        "colab": {
          "base_uri": "https://localhost:8080/",
          "height": 180
        },
        "id": "WuY4elca5KJJ",
        "outputId": "2e3c545b-ea4f-4f1c-f231-36769de3e8ee"
      },
      "outputs": [
        {
          "output_type": "execute_result",
          "data": {
            "text/plain": [
              "array([4, 4, 0, 2, 0, 0, 0, 1, 3, 2, 2, 1, 2, 2, 4, 0, 2, 0, 0, 0, 0, 0,\n",
              "       0, 4, 0, 0, 3, 0, 0, 0, 4, 4, 2, 2, 0, 0, 0, 4, 0, 2, 0, 4, 0, 0,\n",
              "       0, 0, 0, 0, 3, 0, 0, 4, 2, 2, 0, 0, 0, 4, 0, 3, 2, 0, 0, 0, 0, 0,\n",
              "       0, 4, 4, 0, 3, 2, 3, 0, 0, 3, 3, 0, 4, 0, 2, 4, 0, 0, 0, 0, 0, 3,\n",
              "       3, 0, 3, 4, 0, 0, 0, 3, 3, 0, 3, 0, 0, 0, 0, 0, 2, 4, 3, 1, 1, 3,\n",
              "       1, 1, 1, 1, 1, 1, 1, 1, 3, 1, 1, 1, 3, 1, 1, 1, 1, 1, 1, 1, 1, 1,\n",
              "       1, 1, 1, 1, 1, 1, 1, 1, 1, 1, 1, 1, 1])"
            ]
          },
          "metadata": {},
          "execution_count": 100
        },
        {
          "output_type": "display_data",
          "data": {
            "text/plain": [
              "<Figure size 432x288 with 1 Axes>"
            ],
            "image/png": "[encoded data removed]"
          },
          "metadata": {
            "needs_background": "light"
          }
        }
      ],
      "source": [
        "# método: ward n_cluster = 5\n",
        "dendrograma = dendrogram(linkage(np_dataset, method = 'ward'))\n",
        "plt.title('Dendrograma')\n",
        "plt.xlabel('Pessoas')\n",
        "plt.ylabel('Distância Euclidiana')\n",
        "\n",
        "hc = AgglomerativeClustering(n_clusters = 5, affinity = 'euclidean', linkage = 'ward')\n",
        "previsoes = hc.fit_predict(np_dataset)\n",
        "previsoes\n",
        "\n"
      ]
    },
    {
      "cell_type": "code",
      "execution_count": null,
      "metadata": {
        "colab": {
          "base_uri": "https://localhost:8080/",
          "height": 180
        },
        "id": "CItUyK9K5_4r",
        "outputId": "a5f45c03-ad51-4d89-d1b8-9deda9827b3e"
      },
      "outputs": [
        {
          "output_type": "execute_result",
          "data": {
            "text/plain": [
              "array([4, 4, 2, 5, 0, 2, 2, 1, 3, 5, 5, 1, 5, 5, 4, 2, 5, 2, 2, 0, 0, 0,\n",
              "       0, 4, 2, 0, 3, 0, 0, 2, 4, 4, 5, 5, 0, 0, 0, 4, 2, 5, 2, 4, 2, 0,\n",
              "       0, 0, 0, 0, 3, 2, 0, 4, 5, 5, 2, 0, 2, 4, 0, 3, 5, 2, 2, 0, 2, 0,\n",
              "       0, 4, 4, 0, 3, 5, 3, 2, 2, 3, 3, 0, 4, 2, 5, 4, 0, 2, 0, 2, 2, 3,\n",
              "       3, 2, 3, 4, 2, 2, 0, 3, 3, 2, 3, 2, 2, 2, 2, 2, 5, 4, 3, 1, 1, 3,\n",
              "       6, 6, 6, 6, 1, 1, 6, 1, 3, 1, 1, 1, 3, 6, 1, 1, 1, 6, 6, 1, 1, 6,\n",
              "       6, 6, 6, 6, 1, 6, 1, 1, 1, 6, 6, 1, 6])"
            ]
          },
          "metadata": {},
          "execution_count": 101
        },
        {
          "output_type": "display_data",
          "data": {
            "text/plain": [
              "<Figure size 432x288 with 1 Axes>"
            ],
            "image/png": "[encoded data removed]"
          },
          "metadata": {
            "needs_background": "light"
          }
        }
      ],
      "source": [
        "# método: ward n_cluster = 7\n",
        "dendrograma = dendrogram(linkage(np_dataset, method = 'ward'))\n",
        "plt.title('Dendrograma')\n",
        "plt.xlabel('Pessoas')\n",
        "plt.ylabel('Distância Euclidiana')\n",
        "\n",
        "hc = AgglomerativeClustering(n_clusters = 7, affinity = 'euclidean', linkage = 'ward')\n",
        "previsoes = hc.fit_predict(np_dataset)\n",
        "previsoes"
      ]
    },
    {
      "cell_type": "code",
      "execution_count": null,
      "metadata": {
        "colab": {
          "base_uri": "https://localhost:8080/",
          "height": 180
        },
        "id": "QZ4uqCNa6Qy5",
        "outputId": "ca982910-dc94-497c-ab01-6518198992cf"
      },
      "outputs": [
        {
          "output_type": "execute_result",
          "data": {
            "text/plain": [
              "array([4, 4, 0, 2, 0, 0, 0, 1, 3, 2, 2, 1, 2, 2, 4, 0, 2, 0, 0, 0, 0, 0,\n",
              "       0, 4, 0, 0, 3, 0, 0, 0, 4, 4, 2, 2, 0, 0, 0, 4, 0, 2, 0, 4, 0, 0,\n",
              "       0, 0, 0, 0, 3, 0, 0, 4, 2, 2, 0, 0, 0, 4, 0, 3, 2, 0, 0, 0, 0, 0,\n",
              "       0, 4, 4, 0, 3, 2, 3, 0, 0, 3, 3, 0, 4, 0, 2, 4, 0, 0, 0, 0, 0, 3,\n",
              "       3, 0, 3, 4, 0, 0, 0, 3, 3, 0, 3, 0, 0, 0, 0, 0, 2, 4, 3, 1, 1, 3,\n",
              "       1, 1, 1, 1, 1, 1, 1, 1, 3, 1, 1, 1, 3, 1, 1, 1, 1, 1, 1, 1, 1, 1,\n",
              "       1, 1, 1, 1, 1, 1, 1, 1, 1, 1, 1, 1, 1])"
            ]
          },
          "metadata": {},
          "execution_count": 102
        },
        {
          "output_type": "display_data",
          "data": {
            "text/plain": [
              "<Figure size 432x288 with 1 Axes>"
            ],
            "image/png": "[encoded data removed]"
          },
          "metadata": {
            "needs_background": "light"
          }
        }
      ],
      "source": [
        "# método: average n_cluster = 5\n",
        "dendrograma = dendrogram(linkage(np_dataset, method = 'average'))\n",
        "plt.title('Dendrograma')\n",
        "plt.xlabel('Pessoas')\n",
        "plt.ylabel('Distância Euclidiana')\n",
        "\n",
        "hc = AgglomerativeClustering(n_clusters = 5, affinity = 'euclidean', linkage = 'ward')\n",
        "previsoes = hc.fit_predict(np_dataset)\n",
        "previsoes\n"
      ]
    },
    {
      "cell_type": "code",
      "execution_count": null,
      "metadata": {
        "colab": {
          "base_uri": "https://localhost:8080/",
          "height": 180
        },
        "id": "fYn_D41T6wXq",
        "outputId": "06785b5d-0ae9-4d22-ab5d-446f927d36b2"
      },
      "outputs": [
        {
          "output_type": "execute_result",
          "data": {
            "text/plain": [
              "array([4, 4, 2, 5, 0, 2, 2, 1, 3, 5, 5, 1, 5, 5, 4, 2, 5, 2, 2, 0, 0, 0,\n",
              "       0, 4, 2, 0, 3, 0, 0, 2, 4, 4, 5, 5, 0, 0, 0, 4, 2, 5, 2, 4, 2, 0,\n",
              "       0, 0, 0, 0, 3, 2, 0, 4, 5, 5, 2, 0, 2, 4, 0, 3, 5, 2, 2, 0, 2, 0,\n",
              "       0, 4, 4, 0, 3, 5, 3, 2, 2, 3, 3, 0, 4, 2, 5, 4, 0, 2, 0, 2, 2, 3,\n",
              "       3, 2, 3, 4, 2, 2, 0, 3, 3, 2, 3, 2, 2, 2, 2, 2, 5, 4, 3, 1, 1, 3,\n",
              "       6, 6, 6, 6, 1, 1, 6, 1, 3, 1, 1, 1, 3, 6, 1, 1, 1, 6, 6, 1, 1, 6,\n",
              "       6, 6, 6, 6, 1, 6, 1, 1, 1, 6, 6, 1, 6])"
            ]
          },
          "metadata": {},
          "execution_count": 103
        },
        {
          "output_type": "display_data",
          "data": {
            "text/plain": [
              "<Figure size 432x288 with 1 Axes>"
            ],
            "image/png": "[encoded data removed]"
          },
          "metadata": {
            "needs_background": "light"
          }
        }
      ],
      "source": [
        "# método: average n_cluster = 7\n",
        "dendrograma = dendrogram(linkage(np_dataset, method = 'average'))\n",
        "plt.title('Dendrograma')\n",
        "plt.xlabel('Pessoas')\n",
        "plt.ylabel('Distância Euclidiana')\n",
        "\n",
        "hc = AgglomerativeClustering(n_clusters = 7, affinity = 'euclidean', linkage = 'ward')\n",
        "previsoes = hc.fit_predict(np_dataset)\n",
        "previsoes"
      ]
    },
    {
      "cell_type": "markdown",
      "metadata": {
        "id": "RzUhOHH7Vggx"
      },
      "source": [
        "## 2.D) Por fim, faça uma comparação entre os 2 resultados das execuções anteriores e adote uma medida de avaliação própria para clusterização.\n",
        "\n",
        "\n",
        "R: O armazenamento em cluster hierárquico não pode manipular dados grandes, mas o armazenamento em cluster K-Means pode, devido a isso, por estarmos manipulando uma base relativamente pequena, não houve problemas para usar o hierárquico. No entanto, ao considerar aumentar a quantidade de amostras, deve se considerar usar apenas o K-Means. \n",
        "\n",
        "Dessa forma o método escolhido é o K-Means, visto que a sua ampla utilização por parte dos usuários, o método consegur aplicar ótimos resultados quando o numero de clusters já é definido."
      ]
    },
    {
      "cell_type": "markdown",
      "source": [
        "# FASE BÔNUS: Diga vantagens e desvantagens do uso do AUTOML e como você faria para usá-lo, garantindo os melhores resultados possíveis."
      ],
      "metadata": {
        "id": "bzHtEuIDWMfm"
      }
    },
    {
      "cell_type": "markdown",
      "metadata": {
        "id": "UucqAO46Wg7-"
      },
      "source": [
        "### **Vantagens de utilizar AutoML:**\n",
        "\n",
        "•\tSão requeridos apenas conhecimento superficial de machine learning(aprendizado de máquina), que já é suficiente para se utilizar as ferramentas, automatizando passos e diminuindo o tempo para se ter resultados iniciais;\n",
        "\n",
        "•\tÉ possível aplicar em diferentes tipos de dados e problemas, podendo ser usado como baseline para pesquisas;\n",
        "\n",
        "### **Já as desvantagens são:**\n",
        "•\tPode oferecer uma customização que pode ser limitada ou dificultada, ou pode não obter resultados bom o suficiente para o problema, precisando da intervenção de especialistas; \n",
        "\n",
        "•\tNão evitará a necessidade de esforço para se obter e preparar dados adequados para aprendizado de máquina, ou seja, será necessário que os dados tenham passado por um processo de tratamento (a exemplo a engenharia de dados).\n",
        "\n",
        "Na minha opinião, o uso do AUTOML contribui muito para a disseminação e aplicabilidade de técnicas de machine learning. A melhor forma para utilizar é aplicando em problemas que requerem o uso de estatística sofisticada, contribuindo para obter resultados cada vez mais precisos. "
      ]
    }
  ],
  "metadata": {
    "colab": {
      "collapsed_sections": [],
      "name": "Atividade_2_IA.ipynb",
      "provenance": []
    },
    "kernelspec": {
      "display_name": "Python 3 (ipykernel)",
      "language": "python",
      "name": "python3"
    },
    "language_info": {
      "codemirror_mode": {
        "name": "ipython",
        "version": 3
      },
      "file_extension": ".py",
      "mimetype": "text/x-python",
      "name": "python",
      "nbconvert_exporter": "python",
      "pygments_lexer": "ipython3",
      "version": "3.9.7"
    }
  },
  "nbformat": 4,
  "nbformat_minor": 0
}