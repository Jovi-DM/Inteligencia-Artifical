{
  "cells": [
    {
      "cell_type": "markdown",
      "metadata": {
        "id": "W3mr1n76gN-1"
      },
      "source": [
        "O nosso conjunto de imagens customizado para fazer o treinamento com o YOLO deve conter:\n",
        "\n",
        "* Imagens dos objetos que queremos reconhecer, já catalogadas (com os arquivos annotation)\n",
        "* Arquivos obj.data e obj.names \n",
        "* Arquivo .cfg customizado\n",
        "* Arquivo train.txt (test.txt é opcional)"
      ]
    },
    {
      "cell_type": "markdown",
      "metadata": {
        "id": "6N5AYMarjtZ_"
      },
      "source": [
        "Há duas maneiras principais para reunir as imagens\n",
        "* Baixar de um dataset ou repositório como o Open Images Dataset, um dataset da Google que disponibiliza imagens para mais de 600 classes diferentes.\n",
        "A maneira mais prática atualmente para baixar as imagens do Open Images Dataset é usar a ferramenta [OIDv4 Toolkit](https://github.com/EscVM/OIDv4_ToolKit). \n",
        "* A segunda maneira consiste em baixar manualmente as imagens do objeto e catalogá-las utilizando alguma ferramenta de anotação (annotation tool) para obter os txt com as anotações. Esse é um processo manual e que pode ser bastante demorado, portanto recomendamos verificar se a classe escolhida não está no Dataset do Google. Se você não encontrou no Open Images Dataset o objeto que deseja detectar então é necessário baixar manualmente. Por ser um método mais demorado e cansativo nós recomendamos fazer somente caso não tiver outra maneira de conseguir facilmente baixar essa imagens."
      ]
    },
    {
      "cell_type": "markdown",
      "metadata": {
        "id": "R_lNQfvXcXEl"
      },
      "source": [
        "# Coletando e catalogando as imagens do objeto para treinamento"
      ]
    },
    {
      "cell_type": "markdown",
      "metadata": {
        "id": "PS0oGeB4X59W"
      },
      "source": [
        "## Etapa 1 - Clonando o repositório da ferramenta"
      ]
    },
    {
      "cell_type": "code",
      "execution_count": null,
      "metadata": {
        "colab": {
          "base_uri": "https://localhost:8080/"
        },
        "id": "UyucoO5z9hM5",
        "outputId": "58b7f2af-dd77-499d-db7e-59a1569f5adf"
      },
      "outputs": [
        {
          "output_type": "stream",
          "name": "stdout",
          "text": [
            "Cloning into 'OIDv4_ToolKit'...\n",
            "remote: Enumerating objects: 422, done.\u001b[K\n",
            "remote: Total 422 (delta 0), reused 0 (delta 0), pack-reused 422\u001b[K\n",
            "Receiving objects: 100% (422/422), 34.08 MiB | 9.16 MiB/s, done.\n",
            "Resolving deltas: 100% (146/146), done.\n"
          ]
        }
      ],
      "source": [
        "!git clone https://github.com/EscVM/OIDv4_ToolKit.git"
      ]
    },
    {
      "cell_type": "markdown",
      "metadata": {
        "id": "0HGydJaEYTdj"
      },
      "source": [
        "## Etapa 2 - Acessando o diretório da ferramenta "
      ]
    },
    {
      "cell_type": "code",
      "execution_count": null,
      "metadata": {
        "colab": {
          "base_uri": "https://localhost:8080/"
        },
        "id": "4CcU-d44RShN",
        "outputId": "9ca5a9bb-8eaa-4e37-bc93-83ab78d37c94"
      },
      "outputs": [
        {
          "output_type": "stream",
          "name": "stdout",
          "text": [
            "\u001b[0m\u001b[01;34mOIDv4_ToolKit\u001b[0m/  \u001b[01;34msample_data\u001b[0m/\n"
          ]
        }
      ],
      "source": [
        "ls"
      ]
    },
    {
      "cell_type": "code",
      "execution_count": null,
      "metadata": {
        "colab": {
          "base_uri": "https://localhost:8080/"
        },
        "id": "-F-P0Qr8RWBr",
        "outputId": "17805dfa-dd20-4138-c584-5062e4cb9c07"
      },
      "outputs": [
        {
          "output_type": "stream",
          "name": "stdout",
          "text": [
            "/content/OIDv4_ToolKit\n"
          ]
        }
      ],
      "source": [
        "cd /content/OIDv4_ToolKit"
      ]
    },
    {
      "cell_type": "code",
      "execution_count": null,
      "metadata": {
        "id": "TKSzyo9ZRYuX",
        "colab": {
          "base_uri": "https://localhost:8080/"
        },
        "outputId": "8ecd9e58-7a9b-4474-94d8-b77523495ad0"
      },
      "outputs": [
        {
          "output_type": "stream",
          "name": "stdout",
          "text": [
            "classes.txt  \u001b[0m\u001b[01;34mimages\u001b[0m/  LICENSE  main.py  \u001b[01;34mmodules\u001b[0m/  README.md  requirements.txt\n"
          ]
        }
      ],
      "source": [
        "ls"
      ]
    },
    {
      "cell_type": "markdown",
      "metadata": {
        "id": "FWLutEtfYrrh"
      },
      "source": [
        "## Etapa 3 - Instalando todas as bibliotecas necessárias"
      ]
    },
    {
      "cell_type": "code",
      "execution_count": null,
      "metadata": {
        "id": "uUtMalvNRcF3",
        "colab": {
          "base_uri": "https://localhost:8080/"
        },
        "outputId": "8d76b50d-2ecb-4f57-fc75-2393a79c8d08"
      },
      "outputs": [
        {
          "output_type": "stream",
          "name": "stdout",
          "text": [
            "Looking in indexes: https://pypi.org/simple, https://us-python.pkg.dev/colab-wheels/public/simple/\n",
            "Requirement already satisfied: pandas in /usr/local/lib/python3.7/dist-packages (from -r requirements.txt (line 1)) (1.3.5)\n",
            "Requirement already satisfied: numpy in /usr/local/lib/python3.7/dist-packages (from -r requirements.txt (line 2)) (1.21.6)\n",
            "Collecting awscli\n",
            "  Downloading awscli-1.25.14-py3-none-any.whl (3.9 MB)\n",
            "\u001b[K     |████████████████████████████████| 3.9 MB 13.8 MB/s \n",
            "\u001b[?25hRequirement already satisfied: urllib3 in /usr/local/lib/python3.7/dist-packages (from -r requirements.txt (line 5)) (1.24.3)\n",
            "Requirement already satisfied: tqdm in /usr/local/lib/python3.7/dist-packages (from -r requirements.txt (line 7)) (4.64.0)\n",
            "Requirement already satisfied: opencv-python in /usr/local/lib/python3.7/dist-packages (from -r requirements.txt (line 9)) (4.1.2.30)\n",
            "Requirement already satisfied: pytz>=2017.3 in /usr/local/lib/python3.7/dist-packages (from pandas->-r requirements.txt (line 1)) (2022.1)\n",
            "Requirement already satisfied: python-dateutil>=2.7.3 in /usr/local/lib/python3.7/dist-packages (from pandas->-r requirements.txt (line 1)) (2.8.2)\n",
            "Requirement already satisfied: six>=1.5 in /usr/local/lib/python3.7/dist-packages (from python-dateutil>=2.7.3->pandas->-r requirements.txt (line 1)) (1.15.0)\n",
            "Collecting rsa<4.8,>=3.1.2\n",
            "  Downloading rsa-4.7.2-py3-none-any.whl (34 kB)\n",
            "Requirement already satisfied: PyYAML<5.5,>=3.10 in /usr/local/lib/python3.7/dist-packages (from awscli->-r requirements.txt (line 3)) (3.13)\n",
            "Collecting s3transfer<0.7.0,>=0.6.0\n",
            "  Downloading s3transfer-0.6.0-py3-none-any.whl (79 kB)\n",
            "\u001b[K     |████████████████████████████████| 79 kB 9.9 MB/s \n",
            "\u001b[?25hCollecting docutils<0.17,>=0.10\n",
            "  Downloading docutils-0.16-py2.py3-none-any.whl (548 kB)\n",
            "\u001b[K     |████████████████████████████████| 548 kB 67.6 MB/s \n",
            "\u001b[?25hCollecting colorama<0.4.5,>=0.2.5\n",
            "  Downloading colorama-0.4.4-py2.py3-none-any.whl (16 kB)\n",
            "Collecting botocore==1.27.14\n",
            "  Downloading botocore-1.27.14-py3-none-any.whl (8.9 MB)\n",
            "\u001b[K     |████████████████████████████████| 8.9 MB 67.8 MB/s \n",
            "\u001b[?25hCollecting jmespath<2.0.0,>=0.7.1\n",
            "  Downloading jmespath-1.0.1-py3-none-any.whl (20 kB)\n",
            "Collecting urllib3\n",
            "  Downloading urllib3-1.26.9-py2.py3-none-any.whl (138 kB)\n",
            "\u001b[K     |████████████████████████████████| 138 kB 75.0 MB/s \n",
            "\u001b[?25hRequirement already satisfied: pyasn1>=0.1.3 in /usr/local/lib/python3.7/dist-packages (from rsa<4.8,>=3.1.2->awscli->-r requirements.txt (line 3)) (0.4.8)\n",
            "Installing collected packages: urllib3, jmespath, botocore, s3transfer, rsa, docutils, colorama, awscli\n",
            "  Attempting uninstall: urllib3\n",
            "    Found existing installation: urllib3 1.24.3\n",
            "    Uninstalling urllib3-1.24.3:\n",
            "      Successfully uninstalled urllib3-1.24.3\n",
            "  Attempting uninstall: rsa\n",
            "    Found existing installation: rsa 4.8\n",
            "    Uninstalling rsa-4.8:\n",
            "      Successfully uninstalled rsa-4.8\n",
            "  Attempting uninstall: docutils\n",
            "    Found existing installation: docutils 0.17.1\n",
            "    Uninstalling docutils-0.17.1:\n",
            "      Successfully uninstalled docutils-0.17.1\n",
            "\u001b[31mERROR: pip's dependency resolver does not currently take into account all the packages that are installed. This behaviour is the source of the following dependency conflicts.\n",
            "requests 2.23.0 requires urllib3!=1.25.0,!=1.25.1,<1.26,>=1.21.1, but you have urllib3 1.26.9 which is incompatible.\n",
            "datascience 0.10.6 requires folium==0.2.1, but you have folium 0.8.3 which is incompatible.\u001b[0m\n",
            "Successfully installed awscli-1.25.14 botocore-1.27.14 colorama-0.4.4 docutils-0.16 jmespath-1.0.1 rsa-4.7.2 s3transfer-0.6.0 urllib3-1.26.9\n"
          ]
        }
      ],
      "source": [
        "!pip3 install -r requirements.txt"
      ]
    },
    {
      "cell_type": "markdown",
      "metadata": {
        "id": "At8ek4zlZIyT"
      },
      "source": [
        "## Etapa 4 - Fazendo o download das imagens"
      ]
    },
    {
      "cell_type": "code",
      "source": [
        "cd /content/OIDv4_ToolKit"
      ],
      "metadata": {
        "colab": {
          "base_uri": "https://localhost:8080/"
        },
        "id": "-DVRFba5IM8Y",
        "outputId": "24469e5c-a027-4c93-9e61-dd0f145f0acc"
      },
      "execution_count": null,
      "outputs": [
        {
          "output_type": "stream",
          "name": "stdout",
          "text": [
            "/content/OIDv4_ToolKit\n"
          ]
        }
      ]
    },
    {
      "cell_type": "markdown",
      "metadata": {
        "id": "DmGzBS8P2je8"
      },
      "source": [
        "### Conjunto de imagens de Treinamento\n",
        "\n",
        "- https://storage.googleapis.com/openimages/web/index.html"
      ]
    },
    {
      "cell_type": "code",
      "execution_count": null,
      "metadata": {
        "id": "5M5F3fWDSGzj",
        "colab": {
          "base_uri": "https://localhost:8080/"
        },
        "outputId": "6bd05a7d-2777-461b-ae3c-f22f1abed706"
      },
      "outputs": [
        {
          "output_type": "stream",
          "name": "stdout",
          "text": [
            "\u001b[92m\n",
            "\t\t   ___   _____  ______            _    _    \n",
            "\t\t .'   `.|_   _||_   _ `.         | |  | |   \n",
            "\t\t/  .-.  \\ | |    | | `. \\ _   __ | |__| |_  \n",
            "\t\t| |   | | | |    | |  | |[ \\ [  ]|____   _| \n",
            "\t\t\\  `-'  /_| |_  _| |_.' / \\ \\/ /     _| |_  \n",
            "\t\t `.___.'|_____||______.'   \\__/     |_____|\n",
            "\t\u001b[0m\n",
            "\u001b[92m\n",
            "             _____                    _                 _             \n",
            "            (____ \\                  | |               | |            \n",
            "             _   \\ \\ ___  _ _ _ ____ | | ___   ____  _ | | ____  ____ \n",
            "            | |   | / _ \\| | | |  _ \\| |/ _ \\ / _  |/ || |/ _  )/ ___)\n",
            "            | |__/ / |_| | | | | | | | | |_| ( ( | ( (_| ( (/ /| |    \n",
            "            |_____/ \\___/ \\____|_| |_|_|\\___/ \\_||_|\\____|\\____)_|    \n",
            "                                                          \n",
            "        \u001b[0m\n",
            "    [INFO] | Downloading ['Hat', 'Cowboy hat', 'Sun hat', 'Swim cap'] together.\u001b[0m\n",
            "\u001b[91m   [ERROR] | Missing the class-descriptions-boxable.csv file.\u001b[0m\n",
            "\u001b[94m[DOWNLOAD] | Do you want to download the missing file? [Y/n] \u001b[0my\n",
            "...145%, 0 MB, 57454 KB/s, 0 seconds passed\n",
            "\u001b[94m[DOWNLOAD] | File class-descriptions-boxable.csv downloaded into OID/csv_folder/class-descriptions-boxable.csv.\u001b[0m\n",
            "\u001b[91m   [ERROR] | Missing the train-annotations-bbox.csv file.\u001b[0m\n",
            "\u001b[94m[DOWNLOAD] | Do you want to download the missing file? [Y/n] \u001b[0mY\n",
            "...100%, 1138 MB, 40046 KB/s, 29 seconds passed\n",
            "\u001b[94m[DOWNLOAD] | File train-annotations-bbox.csv downloaded into OID/csv_folder/train-annotations-bbox.csv.\u001b[0m\n",
            "\n",
            "\u001b[95mHat\u001b[0m\n",
            "    [INFO] | Downloading train images.\u001b[0m\n",
            "    [INFO] | [INFO] Found 8460 online images for train.\u001b[0m\n",
            "    [INFO] | Limiting to 1000 images.\u001b[0m\n",
            "    [INFO] | Download of 1000 images in train.\u001b[0m\n",
            "100% 1000/1000 [06:51<00:00,  2.43it/s]\n",
            "    [INFO] | Done!\u001b[0m\n",
            "    [INFO] | Creating labels for Hat of train.\u001b[0m\n",
            "    [INFO] | Labels creation completed.\u001b[0m\n",
            "\n",
            "\u001b[95mCowboy hat\u001b[0m\n",
            "    [INFO] | Downloading train images.\u001b[0m\n",
            "    [INFO] | [INFO] Found 1977 online images for train.\u001b[0m\n",
            "    [INFO] | Limiting to 1000 images.\u001b[0m\n",
            "    [INFO] | Download of 1000 images in train.\u001b[0m\n",
            "100% 1000/1000 [07:14<00:00,  2.30it/s]\n",
            "    [INFO] | Done!\u001b[0m\n",
            "    [INFO] | Creating labels for Cowboy hat of train.\u001b[0m\n",
            "    [INFO] | Labels creation completed.\u001b[0m\n",
            "\n",
            "\u001b[95mSun hat\u001b[0m\n",
            "    [INFO] | Downloading train images.\u001b[0m\n",
            "    [INFO] | [INFO] Found 4296 online images for train.\u001b[0m\n",
            "    [INFO] | Limiting to 1000 images.\u001b[0m\n",
            "    [INFO] | Download of 802 images in train.\u001b[0m\n",
            "100% 802/802 [05:54<00:00,  2.26it/s]\n",
            "    [INFO] | Done!\u001b[0m\n",
            "    [INFO] | Creating labels for Sun hat of train.\u001b[0m\n",
            "    [INFO] | Labels creation completed.\u001b[0m\n",
            "\n",
            "\u001b[95mSwim cap\u001b[0m\n",
            "    [INFO] | Downloading train images.\u001b[0m\n",
            "    [INFO] | [INFO] Found 330 online images for train.\u001b[0m\n",
            "    [INFO] | Limiting to 1000 images.\u001b[0m\n",
            "    [INFO] | Download of 330 images in train.\u001b[0m\n",
            "100% 330/330 [02:29<00:00,  2.21it/s]\n",
            "    [INFO] | Done!\u001b[0m\n",
            "    [INFO] | Creating labels for Swim cap of train.\u001b[0m\n",
            "    [INFO] | Labels creation completed.\u001b[0m\n"
          ]
        }
      ],
      "source": [
        "!python main.py downloader --classes Hat Cowboy_hat Sun_hat Swim_cap --type_csv train --limit 1000 --multiclasses 1"
      ]
    },
    {
      "cell_type": "markdown",
      "source": [
        "### Conjunto de imagens de Validação\n"
      ],
      "metadata": {
        "id": "gpQR0uLx2yWr"
      }
    },
    {
      "cell_type": "code",
      "source": [
        "!python main.py downloader --classes Hat Cowboy_hat Sun_hat Swim_cap --type_csv test --limit 200 --multiclasses 1"
      ],
      "metadata": {
        "id": "AShY_1631gao",
        "colab": {
          "base_uri": "https://localhost:8080/"
        },
        "outputId": "013642ba-cdea-4cfc-bacc-481b18a710d9"
      },
      "execution_count": null,
      "outputs": [
        {
          "output_type": "stream",
          "name": "stdout",
          "text": [
            "\u001b[92m\n",
            "\t\t   ___   _____  ______            _    _    \n",
            "\t\t .'   `.|_   _||_   _ `.         | |  | |   \n",
            "\t\t/  .-.  \\ | |    | | `. \\ _   __ | |__| |_  \n",
            "\t\t| |   | | | |    | |  | |[ \\ [  ]|____   _| \n",
            "\t\t\\  `-'  /_| |_  _| |_.' / \\ \\/ /     _| |_  \n",
            "\t\t `.___.'|_____||______.'   \\__/     |_____|\n",
            "\t\u001b[0m\n",
            "\u001b[92m\n",
            "             _____                    _                 _             \n",
            "            (____ \\                  | |               | |            \n",
            "             _   \\ \\ ___  _ _ _ ____ | | ___   ____  _ | | ____  ____ \n",
            "            | |   | / _ \\| | | |  _ \\| |/ _ \\ / _  |/ || |/ _  )/ ___)\n",
            "            | |__/ / |_| | | | | | | | | |_| ( ( | ( (_| ( (/ /| |    \n",
            "            |_____/ \\___/ \\____|_| |_|_|\\___/ \\_||_|\\____|\\____)_|    \n",
            "                                                          \n",
            "        \u001b[0m\n",
            "    [INFO] | Downloading ['Hat', 'Cowboy hat', 'Sun hat', 'Swim cap'] together.\u001b[0m\n",
            "\u001b[91m   [ERROR] | Missing the test-annotations-bbox.csv file.\u001b[0m\n",
            "\u001b[94m[DOWNLOAD] | Do you want to download the missing file? [Y/n] \u001b[0mY\n",
            "...100%, 49 MB, 36043 KB/s, 1 seconds passed\n",
            "\u001b[94m[DOWNLOAD] | File test-annotations-bbox.csv downloaded into OID/csv_folder/test-annotations-bbox.csv.\u001b[0m\n",
            "\n",
            "\u001b[95mHat\u001b[0m\n",
            "    [INFO] | Downloading test images.\u001b[0m\n",
            "    [INFO] | [INFO] Found 379 online images for test.\u001b[0m\n",
            "    [INFO] | Limiting to 200 images.\u001b[0m\n",
            "    [INFO] | Download of 200 images in test.\u001b[0m\n",
            "  0% 0/200 [00:00<?, ?it/s]\n",
            "Y\n",
            "100% 200/200 [01:20<00:00,  2.49it/s]\n",
            "    [INFO] | Done!\u001b[0m\n",
            "    [INFO] | Creating labels for Hat of test.\u001b[0m\n",
            "    [INFO] | Labels creation completed.\u001b[0m\n",
            "\n",
            "\u001b[95mCowboy hat\u001b[0m\n",
            "    [INFO] | Downloading test images.\u001b[0m\n",
            "    [INFO] | [INFO] Found 115 online images for test.\u001b[0m\n",
            "    [INFO] | Limiting to 200 images.\u001b[0m\n",
            "    [INFO] | Download of 104 images in test.\u001b[0m\n",
            "100% 104/104 [00:43<00:00,  2.40it/s]\n",
            "    [INFO] | Done!\u001b[0m\n",
            "    [INFO] | Creating labels for Cowboy hat of test.\u001b[0m\n",
            "    [INFO] | Labels creation completed.\u001b[0m\n",
            "\n",
            "\u001b[95mSun hat\u001b[0m\n",
            "    [INFO] | Downloading test images.\u001b[0m\n",
            "    [INFO] | [INFO] Found 187 online images for test.\u001b[0m\n",
            "    [INFO] | Limiting to 200 images.\u001b[0m\n",
            "    [INFO] | Download of 114 images in test.\u001b[0m\n",
            "100% 114/114 [00:47<00:00,  2.41it/s]\n",
            "    [INFO] | Done!\u001b[0m\n",
            "    [INFO] | Creating labels for Sun hat of test.\u001b[0m\n",
            "    [INFO] | Labels creation completed.\u001b[0m\n",
            "\n",
            "\u001b[95mSwim cap\u001b[0m\n",
            "    [INFO] | Downloading test images.\u001b[0m\n",
            "    [INFO] | [INFO] Found 79 online images for test.\u001b[0m\n",
            "    [INFO] | Limiting to 200 images.\u001b[0m\n",
            "    [INFO] | Download of 79 images in test.\u001b[0m\n",
            "100% 79/79 [00:32<00:00,  2.43it/s]\n",
            "    [INFO] | Done!\u001b[0m\n",
            "    [INFO] | Creating labels for Swim cap of test.\u001b[0m\n",
            "    [INFO] | Labels creation completed.\u001b[0m\n"
          ]
        }
      ]
    },
    {
      "cell_type": "markdown",
      "metadata": {
        "id": "qV818C8StBBB"
      },
      "source": [
        "## Etapa 5 - Convertendo os arquivos de anotação"
      ]
    },
    {
      "cell_type": "markdown",
      "metadata": {
        "id": "INFDGAt7u2GX"
      },
      "source": [
        "### 1. Colocar as classes no arquivo classes.txt"
      ]
    },
    {
      "cell_type": "code",
      "execution_count": null,
      "metadata": {
        "colab": {
          "base_uri": "https://localhost:8080/"
        },
        "id": "9GWaBFIqegFC",
        "outputId": "6e49d36e-8d06-4781-ac5a-590d99dd5e88"
      },
      "outputs": [
        {
          "output_type": "stream",
          "name": "stdout",
          "text": [
            "Apple\n",
            "Orange\n",
            "Light switch\n"
          ]
        }
      ],
      "source": [
        "!cat classes.txt"
      ]
    },
    {
      "cell_type": "code",
      "execution_count": null,
      "metadata": {
        "id": "fw8RPcn5euoA"
      },
      "outputs": [],
      "source": [
        "!echo -e 'Hat\\nCowboy hat\\nSun hat\\nSwim cap\\nHijab' > classes.txt"
      ]
    },
    {
      "cell_type": "markdown",
      "metadata": {
        "id": "s2JDmfEbuOHH"
      },
      "source": [
        "### 2. Baixar o arquivo converter_annotations.py e adicione-o ao diretório"
      ]
    },
    {
      "cell_type": "code",
      "execution_count": null,
      "metadata": {
        "id": "YkIDIbpHe_K-"
      },
      "outputs": [],
      "source": [
        "from google.colab import drive\n",
        "drive.mount('/content/gdrive')"
      ]
    },
    {
      "cell_type": "code",
      "execution_count": null,
      "metadata": {
        "id": "p2NfFgdkfZ7N"
      },
      "outputs": [],
      "source": [
        "!unzip /content/gdrive/MyDrive/YOLO/recursos/TreinamentoYOLO.zip -d /content/"
      ]
    },
    {
      "cell_type": "code",
      "execution_count": null,
      "metadata": {
        "id": "lG-n37GKf4Pp"
      },
      "outputs": [],
      "source": [
        "ls"
      ]
    },
    {
      "cell_type": "code",
      "execution_count": null,
      "metadata": {
        "id": "WhGjsUm0f9_5"
      },
      "outputs": [],
      "source": [
        "!cp /content/TreinamentoYOLO/converter_annotations.py ./"
      ]
    },
    {
      "cell_type": "code",
      "source": [
        "cd /content/OIDv4_ToolKit"
      ],
      "metadata": {
        "id": "HP-Um3y3GHG6"
      },
      "execution_count": null,
      "outputs": []
    },
    {
      "cell_type": "markdown",
      "metadata": {
        "id": "ll5d8wUOuklN"
      },
      "source": [
        "### 3. Executar o arquivo de conversão\n",
        "\n"
      ]
    },
    {
      "cell_type": "code",
      "execution_count": null,
      "metadata": {
        "id": "-sSdpqGCiMkE"
      },
      "outputs": [],
      "source": [
        "!python converter_annotations.py"
      ]
    },
    {
      "cell_type": "markdown",
      "metadata": {
        "id": "917MlTGGfEOj"
      },
      "source": [
        "## Etapa 6 - Compactar o dataset "
      ]
    },
    {
      "cell_type": "code",
      "execution_count": null,
      "metadata": {
        "id": "Nm4AOqNajiJ9"
      },
      "outputs": [],
      "source": [
        "cd /content/OIDv4_ToolKit/OID/Dataset/train"
      ]
    },
    {
      "cell_type": "code",
      "execution_count": null,
      "metadata": {
        "id": "8R744ykEj2HY"
      },
      "outputs": [],
      "source": [
        "ls"
      ]
    },
    {
      "cell_type": "code",
      "execution_count": null,
      "metadata": {
        "id": "YDBpEyQDj5o2"
      },
      "outputs": [],
      "source": [
        "!zip -r ../../../obj.zip obj -x obj/Label/*"
      ]
    },
    {
      "cell_type": "code",
      "execution_count": null,
      "metadata": {
        "id": "xksgbTt8kouv"
      },
      "outputs": [],
      "source": [
        "ls"
      ]
    },
    {
      "cell_type": "code",
      "execution_count": null,
      "metadata": {
        "id": "sn3CGKV5k07h"
      },
      "outputs": [],
      "source": [
        "cd ../../../../"
      ]
    },
    {
      "cell_type": "code",
      "execution_count": null,
      "metadata": {
        "id": "WZWa1gL3k48c"
      },
      "outputs": [],
      "source": [
        "ls"
      ]
    },
    {
      "cell_type": "code",
      "execution_count": null,
      "metadata": {
        "id": "oqcY9-5LlMid"
      },
      "outputs": [],
      "source": [
        "cd /content/OIDv4_ToolKit/OID/Dataset/test"
      ]
    },
    {
      "cell_type": "code",
      "source": [
        "!cp ./obj.zip /content/gdrive/MyDrive/YOLO/recursos"
      ],
      "metadata": {
        "id": "yoVCCrHg8cjY"
      },
      "execution_count": null,
      "outputs": []
    },
    {
      "cell_type": "code",
      "execution_count": null,
      "metadata": {
        "id": "Gz2Ov2vooUDC"
      },
      "outputs": [],
      "source": [
        "ls"
      ]
    },
    {
      "cell_type": "code",
      "execution_count": null,
      "metadata": {
        "id": "hB4oiSPOoa1Q"
      },
      "outputs": [],
      "source": [
        "!zip -r ../../../../valid.zip valid -x valid/Label/*"
      ]
    },
    {
      "cell_type": "code",
      "execution_count": null,
      "metadata": {
        "id": "rJh_W0Gho4tM"
      },
      "outputs": [],
      "source": [
        "cd /content/"
      ]
    },
    {
      "cell_type": "code",
      "source": [
        "pwd"
      ],
      "metadata": {
        "id": "KQG_1QJM5jBb"
      },
      "execution_count": null,
      "outputs": []
    },
    {
      "cell_type": "code",
      "execution_count": null,
      "metadata": {
        "id": "smj22rvso12t"
      },
      "outputs": [],
      "source": [
        "ls"
      ]
    },
    {
      "cell_type": "code",
      "execution_count": null,
      "metadata": {
        "id": "vAwf5nqpoxlW"
      },
      "outputs": [],
      "source": [
        "!cp ./valid.zip /content/gdrive/MyDrive/YOLO/recursos"
      ]
    },
    {
      "cell_type": "markdown",
      "metadata": {
        "id": "ve4pgC1vcF7i"
      },
      "source": [
        "# Editando os arquivos de configuração necessários para o treinamento"
      ]
    },
    {
      "cell_type": "code",
      "execution_count": null,
      "metadata": {
        "id": "Ev1W2p-spOsb"
      },
      "outputs": [],
      "source": [
        "ls"
      ]
    },
    {
      "cell_type": "code",
      "execution_count": null,
      "metadata": {
        "id": "9em6-_YZpThh"
      },
      "outputs": [],
      "source": [
        "pwd"
      ]
    },
    {
      "cell_type": "code",
      "execution_count": null,
      "metadata": {
        "id": "rbnfuDs_pJNM"
      },
      "outputs": [],
      "source": [
        "!git clone https://github.com/AlexeyAB/darknet"
      ]
    },
    {
      "cell_type": "code",
      "execution_count": null,
      "metadata": {
        "id": "IE2svmd-pdfM"
      },
      "outputs": [],
      "source": [
        "cd darknet/"
      ]
    },
    {
      "cell_type": "code",
      "execution_count": null,
      "metadata": {
        "id": "Phk6aTrwphBy"
      },
      "outputs": [],
      "source": [
        "!make"
      ]
    },
    {
      "cell_type": "markdown",
      "metadata": {
        "id": "nC4Jn6i7gEjm"
      },
      "source": [
        "## Etapa 7 - Definindo os arquivos de configuração"
      ]
    },
    {
      "cell_type": "markdown",
      "metadata": {
        "id": "fVOROvtWzU4y"
      },
      "source": [
        "### Modificações no .cfg"
      ]
    },
    {
      "cell_type": "code",
      "execution_count": null,
      "metadata": {
        "id": "ul3L4aAjrAdF"
      },
      "outputs": [],
      "source": [
        "!cp cfg/yolov4.cfg /content/gdrive/MyDrive/YOLO/recursos/yolov4_custom.cfg"
      ]
    },
    {
      "cell_type": "markdown",
      "metadata": {
        "id": "1CaFZnKGGw9s"
      },
      "source": [
        "### Modificações no obj.names e obj.data"
      ]
    },
    {
      "cell_type": "code",
      "execution_count": null,
      "metadata": {
        "id": "KKnURn0DtIqX"
      },
      "outputs": [],
      "source": [
        "!touch obj.names\n",
        "!touch obj.data"
      ]
    },
    {
      "cell_type": "code",
      "execution_count": null,
      "metadata": {
        "id": "Als3-ZzVtXmX"
      },
      "outputs": [],
      "source": [
        "!cp obj.names /content/gdrive/MyDrive/YOLO/recursos/obj.names\n",
        "!cp obj.data /content/gdrive/MyDrive/YOLO/recursos/obj.data"
      ]
    },
    {
      "cell_type": "markdown",
      "metadata": {
        "id": "xQkErxsnvNJ3"
      },
      "source": [
        "## Etapa 8 - Gerando o arquivo train.txt e test.txt"
      ]
    },
    {
      "cell_type": "code",
      "execution_count": null,
      "metadata": {
        "id": "74tRE2tquzgc"
      },
      "outputs": [],
      "source": [
        "pwd"
      ]
    },
    {
      "cell_type": "code",
      "execution_count": null,
      "metadata": {
        "id": "ROkyKD9eu5O8"
      },
      "outputs": [],
      "source": [
        "cd .."
      ]
    },
    {
      "cell_type": "code",
      "execution_count": null,
      "metadata": {
        "id": "3X_Kn9mTu8vH"
      },
      "outputs": [],
      "source": [
        "cd data"
      ]
    },
    {
      "cell_type": "code",
      "execution_count": null,
      "metadata": {
        "id": "tzL3aAwbunDw"
      },
      "outputs": [],
      "source": [
        "!unzip obj.zip -d ./data"
      ]
    },
    {
      "cell_type": "code",
      "execution_count": null,
      "metadata": {
        "id": "6oJwot7hvaO5"
      },
      "outputs": [],
      "source": [
        "!unzip /content/valid.zip -d ./data"
      ]
    },
    {
      "cell_type": "code",
      "execution_count": null,
      "metadata": {
        "id": "wEgxphvav0Nr"
      },
      "outputs": [],
      "source": [
        "pwd"
      ]
    },
    {
      "cell_type": "code",
      "execution_count": null,
      "metadata": {
        "id": "wzC1QX1RvoUE"
      },
      "outputs": [],
      "source": [
        "!python /content/TreinamentoYOLO/gerar_train.py"
      ]
    },
    {
      "cell_type": "code",
      "execution_count": null,
      "metadata": {
        "id": "eB6cmSv3wVh_"
      },
      "outputs": [],
      "source": [
        "!python /content/TreinamentoYOLO/gerar_test.py"
      ]
    },
    {
      "cell_type": "code",
      "execution_count": null,
      "metadata": {
        "id": "2MqXbdOjwqBH"
      },
      "outputs": [],
      "source": [
        "cd data"
      ]
    },
    {
      "cell_type": "code",
      "execution_count": null,
      "metadata": {
        "id": "0iRc_RE2wl0Z"
      },
      "outputs": [],
      "source": [
        "pwd"
      ]
    },
    {
      "cell_type": "code",
      "execution_count": null,
      "metadata": {
        "id": "oDCbphzGwceC"
      },
      "outputs": [],
      "source": [
        "!cp train.txt /content/gdrive/MyDrive/YOLO/recursos/train.txt"
      ]
    },
    {
      "cell_type": "code",
      "execution_count": null,
      "metadata": {
        "id": "gdO9qHhRwu9T"
      },
      "outputs": [],
      "source": [
        "!cp test.txt /content/gdrive/MyDrive/YOLO/recursos/test.txt"
      ]
    },
    {
      "cell_type": "markdown",
      "source": [
        "teste"
      ],
      "metadata": {
        "id": "e_bPZm6_Ekog"
      }
    },
    {
      "cell_type": "code",
      "source": [
        "cd /content/gdrive/MyDrive/YOLO/recursos/"
      ],
      "metadata": {
        "id": "HQu0ywVaEico"
      },
      "execution_count": null,
      "outputs": []
    },
    {
      "cell_type": "code",
      "source": [
        "ls"
      ],
      "metadata": {
        "id": "V--uFvCeEj8D"
      },
      "execution_count": null,
      "outputs": []
    },
    {
      "cell_type": "code",
      "source": [
        "!cp obj.data /content/gdrive/MyDrive/YOLO/recursos/data/obj.data"
      ],
      "metadata": {
        "id": "SpXVlxQiEq6c"
      },
      "execution_count": null,
      "outputs": []
    },
    {
      "cell_type": "code",
      "source": [
        "!cp obj.names /content/gdrive/MyDrive/YOLO/recursos/data/obj.names"
      ],
      "metadata": {
        "id": "J-VWD-rIExBj"
      },
      "execution_count": null,
      "outputs": []
    },
    {
      "cell_type": "code",
      "source": [
        "!cp test.txt /content/gdrive/MyDrive/YOLO/recursos/data/test.txt"
      ],
      "metadata": {
        "id": "hB5elHzBE4zc"
      },
      "execution_count": null,
      "outputs": []
    },
    {
      "cell_type": "code",
      "source": [
        "!cp train.txt /content/gdrive/MyDrive/YOLO/recursos/data/train.txt"
      ],
      "metadata": {
        "id": "Y7Iv0FebE_HI"
      },
      "execution_count": null,
      "outputs": []
    }
  ],
  "metadata": {
    "accelerator": "GPU",
    "colab": {
      "collapsed_sections": [],
      "name": "Criação da base de dados.ipynb",
      "provenance": []
    },
    "kernelspec": {
      "display_name": "Python 3",
      "name": "python3"
    }
  },
  "nbformat": 4,
  "nbformat_minor": 0
}